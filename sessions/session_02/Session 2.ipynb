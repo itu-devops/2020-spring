{
 "cells": [
  {
   "cell_type": "markdown",
   "metadata": {
    "slideshow": {
     "slide_type": "slide"
    }
   },
   "source": [
    "![](https://www.saa-authors.eu/picture/739/ftw_768/saa-mtcwmza4nzq5mq.jpg)"
   ]
  },
  {
   "cell_type": "markdown",
   "metadata": {
    "slideshow": {
     "slide_type": "slide"
    }
   },
   "source": [
    "# Recap"
   ]
  },
  {
   "cell_type": "markdown",
   "metadata": {
    "slideshow": {
     "slide_type": "subslide"
    }
   },
   "source": [
    "## How did the refactoring from Python 2 to 3 go?\n",
    "\n",
    "  - What did you have to change?\n",
    "  - Which files did you modify and how?\n",
    "  - Did you create a release with your refactored solution?\n",
    "\n"
   ]
  },
  {
   "cell_type": "markdown",
   "metadata": {
    "slideshow": {
     "slide_type": "subslide"
    }
   },
   "source": [
    "\n",
    "Please share your repositories with us. Send a Github pull-request to on the file `repositories.py` in which you replace, e.g., `\"https://github.com/<A>/<B>\", \"https://github.com/<A>/<C>\", \"etc.\"` with the list of the repositories that your group uses for this project.\n",
    "\n",
    "```python\n",
    "GROUP_REPOS = [\n",
    "    [\n",
    "        \"group a\",\n",
    "        \"<master>\",\n",
    "        [\"https://github.com/<A>/<B>\", \"https://github.com/<A>/<C>\", \"etc.\"],\n",
    "    ],\n",
    "    [\n",
    "        \"group b\",\n",
    "        \"2k20 MSc\",\n",
    "        [\"https://github.com/<B>/<B>\", \"https://github.com/<B>/<C>\", \"etc.\"],\n",
    "    ],\n",
    "    ...\n",
    "]\n",
    "```\n",
    "\n",
    "##### Pull request???\n",
    "\n",
    "  * https://git-scm.com/book/en/v2/GitHub-Contributing-to-a-Project\n",
    "  * https://help.github.com/en/github/collaborating-with-issues-and-pull-requests/about-pull-requests"
   ]
  },
  {
   "cell_type": "markdown",
   "metadata": {
    "slideshow": {
     "slide_type": "subslide"
    }
   },
   "source": [
    "## Be supportive! \n",
    "\n",
    "  > ## Our Expectations\n",
    "  >\n",
    "  > * Having fun with our work.\n",
    "  > * That we learn from your experiences and knowledge. (We are not smarter than you are when it comes to the topics of this course, we only have a good idea on what we shall do together)\n",
    "  > * That you support each other when working in groups. The entire course and your projects are a team endeavor."
   ]
  },
  {
   "cell_type": "markdown",
   "metadata": {
    "slideshow": {
     "slide_type": "subslide"
    }
   },
   "source": [
    "## Bash Weirdness...\n",
    "\n",
    "```bash\n",
    "if [ $1 = \"init\" ]; then\n",
    "\n",
    "    if [ -f \"/tmp/minitwit.db\" ]; then \n",
    "        echo \"Database already exists.\"\n",
    "        exit 1\n",
    "    fi\n",
    "    echo \"Putting a database to /tmp/minitwit.db...\"\n",
    "    python -c\"from minitwit import init_db;init_db()\"\n",
    "```\n",
    "\n",
    "  - What is the `[ $1 = \"init\" ]` in the above code?\n",
    "  - What does `type test` tell you?\n",
    "  - What does `man [` tell you?\n",
    "  \n",
    "https://www.linuxjournal.com/content/understanding-bash-elements-programming\n"
   ]
  },
  {
   "cell_type": "markdown",
   "metadata": {
    "slideshow": {
     "slide_type": "subslide"
    }
   },
   "source": [
    "## Which Shebang?\n",
    "\n",
    "When refactoring `control.sh`, which shebang did you set?\n",
    "\n",
    "  * `#!/usr/bin/env bash`\n",
    "  * `#!/bin/bash`\n",
    "  * `#!/bin/sh`\n",
    "  * `#!/bin/sh -`\n",
    "\n",
    "https://stackoverflow.com/questions/10376206/what-is-the-preferred-bash-shebang\n",
    "https://en.wikipedia.org/wiki/Shebang_%28Unix%29"
   ]
  },
  {
   "cell_type": "markdown",
   "metadata": {
    "slideshow": {
     "slide_type": "subslide"
    }
   },
   "source": [
    "## What did the `patch` tool do?\n",
    "\n",
    "  - What did it do?\n",
    "  - Why is it still relevant?\n",
    "  \n",
    "  - How do you create a patch file?"
   ]
  },
  {
   "cell_type": "markdown",
   "metadata": {
    "slideshow": {
     "slide_type": "slide"
    }
   },
   "source": [
    "# Today - Version Control Systems (VCS)?\n",
    "\n",
    "  > Version control is a system that records changes to a file or set of files over time so that you can recall specific versions later.      \n",
    "  > \n",
    "  > It allows you to revert selected files back to a previous state, revert the entire project back to a previous state, compare changes over time, see who last modified something that might be causing a problem, who introduced an issue and when, and more. Using a VCS also generally means that if you screw things up or lose files, you can easily recover. In addition, you get all this for very little overhead.\n",
    "  > [Chacon et al. _\"Pro Git\"_](https://git-scm.com/book/en/v2/Getting-Started-About-Version-Control)"
   ]
  },
  {
   "cell_type": "markdown",
   "metadata": {
    "slideshow": {
     "slide_type": "slide"
    }
   },
   "source": [
    "----------------------\n",
    "# Getting bored today?\n",
    "\n",
    "\n",
    "![](http://static3.businessinsider.com/image/4fbfb86becad044879000001-506-253/suddenly-startups-have-gotten-very-boring.jpg)\n",
    "\n",
    "\n",
    "\n",
    "\n",
    "## Using Git with your friends\n",
    "  * Go through the scenario described in the following picture:\n",
    "    - Remember to use the IP addresses of your own computer, which you can find with `ifconfig`.\n",
    "    - All three computers should be either on the same network or reachable from the outside\n",
    "    - You have to be able to SSH into the other machines\n",
    "      \n",
    "  \n",
    "![](images/git_scenario.png)\n",
    "\n",
    "  * What does that exercise tell you about Git as a version control system? \n",
    "  * What did you just do in the exercise?\n",
    "  * Why is there not Github server?\n",
    "\n",
    "\n",
    "## Write Your Own VCS:\n",
    "\n",
    "  - Choose a scripting language (Ruby, Python, Groovy, etc.) and implement basic features of a VCS.\n",
    "    - You may want to follow the chapter https://git-scm.com/book/en/v2/Git-Internals-Git-Objects, which provides some initial Ruby code for revision control.\n",
    "    - Try to implement features in a way that they support your/your organization's workflow.\n",
    "    - How do you implement branching in your VCS?\n",
    "    - How can you implement remote repositories, i.e., distributed repositories?\n",
    "\n",
    "\n",
    "## I mean it, if you get bored do the tasks above!\n",
    "\n",
    "\n",
    "<img src=\"https://31ns9t3tahh91zt99bieate1-wpengine.netdna-ssl.com/wp-content/uploads/2019/11/Angry-bird.jpg\" width=\"50%\">\n",
    "\n",
    "----------------------\n"
   ]
  },
  {
   "cell_type": "markdown",
   "metadata": {},
   "source": [
    "\n"
   ]
  },
  {
   "cell_type": "markdown",
   "metadata": {
    "slideshow": {
     "slide_type": "slide"
    }
   },
   "source": [
    "# A bit of history & inner workings of Git"
   ]
  },
  {
   "cell_type": "markdown",
   "metadata": {
    "slideshow": {
     "slide_type": "subslide"
    }
   },
   "source": [
    "## Understanding Git\n",
    "\n",
    "  * What does Git store?\n",
    "  * How does Git organize history?"
   ]
  },
  {
   "cell_type": "markdown",
   "metadata": {
    "slideshow": {
     "slide_type": "subslide"
    }
   },
   "source": [
    "### Your Turn! -  `Task1.md`\n",
    "<img src=\"https://media.giphy.com/media/13GIgrGdslD9oQ/giphy.gif\" width=50%/>\n",
    "\n",
    "Reproduce the following steps on your machine and discuss with your group members what is going on at each step."
   ]
  },
  {
   "cell_type": "code",
   "execution_count": 29,
   "metadata": {
    "slideshow": {
     "slide_type": "subslide"
    }
   },
   "outputs": [
    {
     "name": "stderr",
     "output_type": "stream",
     "text": [
      "Cloning into '/Users/ropf/Desktop/flask-minitwit-mongodb'...\n"
     ]
    }
   ],
   "source": [
    "%%bash\n",
    "git clone https://github.com/HelgeCPH/flask-minitwit-mongodb.git ~/Desktop/flask-minitwit-mongodb"
   ]
  },
  {
   "cell_type": "code",
   "execution_count": 31,
   "metadata": {
    "slideshow": {
     "slide_type": "subslide"
    }
   },
   "outputs": [
    {
     "name": "stdout",
     "output_type": "stream",
     "text": [
      "commit ece6e11424b1f09cfc2bab1bddfe61dcc6545944\n",
      "Author: Alexandre Ferland <aferlandqc@gmail.com>\n",
      "Date:   Mon Jan 4 10:11:07 2016 -0500\n",
      "\n",
      "    Update LICENSE\n",
      "\n",
      "commit 03cbca9ace4a367089baf0e920f7002786a24b9e\n",
      "Author: admiralobvious <aferlandqc@gmail.com>\n",
      "Date:   Sun Feb 15 17:35:41 2015 -0500\n",
      "\n",
      "    new name\n",
      "\n",
      "commit b4c02ee4250ce8413ea35f457c6e8a2f3c2902ff\n",
      "Author: admiralobvious <aferlandqc@gmail.com>\n",
      "Date:   Sun Feb 15 17:34:26 2015 -0500\n",
      "\n",
      "    Initial code commit\n",
      "\n",
      "commit 96ad78dd800e1c5839ebefbdc1551157dbd328fc\n",
      "Author: Alexandre Ferland <aferlandqc@gmail.com>\n",
      "Date:   Sun Feb 15 17:23:22 2015 -0500\n",
      "\n",
      "    Initial commit\n"
     ]
    }
   ],
   "source": [
    "%%bash\n",
    "cd ~/Desktop/flask-minitwit-mongodb\n",
    "git log | head -50"
   ]
  },
  {
   "cell_type": "code",
   "execution_count": 33,
   "metadata": {
    "slideshow": {
     "slide_type": "subslide"
    }
   },
   "outputs": [
    {
     "name": "stdout",
     "output_type": "stream",
     "text": [
      "\"ece6e11\",\"Alexandre Ferland\",\"2016-01-04\"\n",
      "1\t1\tLICENSE\n",
      "\n",
      "\"03cbca9\",\"admiralobvious\",\"2015-02-15\"\n",
      "1\t1\tLICENSE\n",
      "5\t5\tREADME.md\n",
      "\n",
      "\"b4c02ee\",\"admiralobvious\",\"2015-02-15\"\n",
      "57\t0\t.gitignore\n",
      "21\t0\tLICENSE\n",
      "33\t1\tREADME.md\n",
      "200\t0\tminitwit.py\n",
      "139\t0\tminitwit_tests.py\n",
      "8\t0\trequirements.txt\n",
      "178\t0\tstatic/style.css\n",
      "32\t0\ttemplates/layout.html\n",
      "15\t0\ttemplates/login.html\n",
      "19\t0\ttemplates/register.html\n",
      "49\t0\ttemplates/timeline.html\n",
      "\n",
      "\"96ad78d\",\"Alexandre Ferland\",\"2015-02-15\"\n",
      "1\t0\tREADME.md\n"
     ]
    }
   ],
   "source": [
    "%%bash\n",
    "cd ~/Desktop/flask-minitwit-mongodb\n",
    "git log --pretty=format:'\"%h\",\"%an\",\"%ad\"' \\\n",
    "    --date=short \\\n",
    "    --numstat"
   ]
  },
  {
   "cell_type": "code",
   "execution_count": 72,
   "metadata": {},
   "outputs": [
    {
     "name": "stdout",
     "output_type": "stream",
     "text": [
      "tree 1e9ced293fe5bacf5fad2fb3d84490de24ea5273\n",
      "parent 03cbca9ace4a367089baf0e920f7002786a24b9e\n",
      "author Alexandre Ferland <aferlandqc@gmail.com> 1451920267 -0500\n",
      "committer Alexandre Ferland <aferlandqc@gmail.com> 1451920267 -0500\n",
      "\n",
      "Update LICENSE"
     ]
    }
   ],
   "source": [
    "%%bash\n",
    "cd ~/Desktop/flask-minitwit-mongodb\n",
    "git cat-file -p HEAD"
   ]
  },
  {
   "cell_type": "code",
   "execution_count": 217,
   "metadata": {
    "slideshow": {
     "slide_type": "subslide"
    }
   },
   "outputs": [
    {
     "name": "stdout",
     "output_type": "stream",
     "text": [
      "100644 blob 37b5ecc885e9bb595b5fa3a8bf7b929a2fb2f385\t.gitignore\n",
      "100644 blob 215eb877912e17461f83c41335b5818b6da27be1\tLICENSE\n",
      "100644 blob 0a4d57d328a470978ff1a6eda302f7223cad3020\tREADME.md\n",
      "100644 blob eed3e6e7dfe575f006667a19f0c1857fca9e5ce2\tminitwit.py\n",
      "100644 blob 8f359437267d18df043dda379a35243ac3e82c70\tminitwit_tests.py\n",
      "100644 blob b9d08cf37c10975bbb0148538faa9f9ed5c67d22\trequirements.txt\n",
      "040000 tree e803e574f460460aae052449f95dae61aca722bb\tstatic\n",
      "040000 tree 4743599e33b0ac7be23c63357148dfc1f35a2dcc\ttemplates\n"
     ]
    }
   ],
   "source": [
    "%%bash\n",
    "cd ~/Desktop/flask-minitwit-mongodb\n",
    "git ls-tree HEAD"
   ]
  },
  {
   "cell_type": "markdown",
   "metadata": {
    "slideshow": {
     "slide_type": "subslide"
    }
   },
   "source": [
    "### What did we see/observe so far?"
   ]
  },
  {
   "cell_type": "markdown",
   "metadata": {
    "slideshow": {
     "slide_type": "fragment"
    }
   },
   "source": [
    "  * We saw the three basic objects that Git uses to store artifacts and history.\n",
    "![](http://git-scm.com/figures/18333fig0301-tn.png)"
   ]
  },
  {
   "cell_type": "markdown",
   "metadata": {
    "slideshow": {
     "slide_type": "subslide"
    }
   },
   "source": [
    "  * We saw that commits point to their previous (parent) commits. \n",
    "\n",
    "![](http://git-scm.com/figures/18333fig0302-tn.png)"
   ]
  },
  {
   "cell_type": "markdown",
   "metadata": {
    "slideshow": {
     "slide_type": "subslide"
    }
   },
   "source": [
    "### Your Turn! -  `Task2.md`\n",
    "<img src=\"https://media.giphy.com/media/13GIgrGdslD9oQ/giphy.gif\" width=50%/>\n",
    "\n",
    "\n",
    "Let's try to understand what these commit, tree, and blob objects contain."
   ]
  },
  {
   "cell_type": "code",
   "execution_count": 78,
   "metadata": {
    "slideshow": {
     "slide_type": "fragment"
    }
   },
   "outputs": [
    {
     "name": "stdout",
     "output_type": "stream",
     "text": [
      "\"ece6e11\",\"Alexandre Ferland\",\"2016-01-04\"\n",
      "1\t1\tLICENSE\n",
      "\n",
      "\"03cbca9\",\"admiralobvious\",\"2015-02-15\"\n",
      "1\t1\tLICENSE\n",
      "5\t5\tREADME.md\n",
      "\n",
      "\"b4c02ee\",\"admiralobvious\",\"2015-02-15\"\n",
      "57\t0\t.gitignore\n",
      "21\t0\tLICENSE\n",
      "33\t1\tREADME.md\n",
      "200\t0\tminitwit.py\n",
      "139\t0\tminitwit_tests.py\n",
      "8\t0\trequirements.txt\n",
      "178\t0\tstatic/style.css\n",
      "32\t0\ttemplates/layout.html\n",
      "15\t0\ttemplates/login.html\n",
      "19\t0\ttemplates/register.html\n",
      "49\t0\ttemplates/timeline.html\n",
      "\n",
      "\"96ad78d\",\"Alexandre Ferland\",\"2015-02-15\"\n",
      "1\t0\tREADME.md\n"
     ]
    }
   ],
   "source": [
    "%%bash\n",
    "cd ~/Desktop/flask-minitwit-mongodb\n",
    "git log --pretty=format:'\"%h\",\"%an\",\"%ad\"' \\\n",
    "    --date=short \\\n",
    "    --numstat"
   ]
  },
  {
   "cell_type": "code",
   "execution_count": 34,
   "metadata": {
    "slideshow": {
     "slide_type": "fragment"
    }
   },
   "outputs": [
    {
     "name": "stdout",
     "output_type": "stream",
     "text": [
      "\"ece6e11\"\n"
     ]
    }
   ],
   "source": [
    "%%bash\n",
    "cd ~/Desktop/flask-minitwit-mongodb\n",
    "git log --pretty=format:'\"%h\",\"%an\",\"%ad\"' \\\n",
    "    --date=short \\\n",
    "    --numstat \\\n",
    "    | head -1 \\\n",
    "    | cut -d',' -f1"
   ]
  },
  {
   "cell_type": "code",
   "execution_count": 36,
   "metadata": {
    "slideshow": {
     "slide_type": "subslide"
    }
   },
   "outputs": [
    {
     "name": "stdout",
     "output_type": "stream",
     "text": [
      ".git/objects\n",
      "├── 03\n",
      "│   └── cbca9ace4a367089baf0e920f7002786a24b9e\n",
      "├── 0a\n",
      "│   └── 4d57d328a470978ff1a6eda302f7223cad3020\n",
      "├── 1e\n",
      "│   └── 9ced293fe5bacf5fad2fb3d84490de24ea5273\n",
      "├── 21\n",
      "│   └── 5eb877912e17461f83c41335b5818b6da27be1\n",
      "├── 26\n",
      "│   └── 73552392cd77c00ae2f8efed1c891120d43f6e\n",
      "├── 37\n",
      "│   └── b5ecc885e9bb595b5fa3a8bf7b929a2fb2f385\n",
      "├── 3a\n",
      "│   └── 3aa88cbec0ba355f9f1f696297adbf2988a275\n",
      "├── 3f\n",
      "│   └── efe828b39ea673d5b603761c3954f51d537169\n",
      "├── 47\n",
      "│   └── 43599e33b0ac7be23c63357148dfc1f35a2dcc\n",
      "├── 49\n",
      "│   └── dd0bab5dda4139819646b4fa51865bb7315108\n",
      "├── 5f\n",
      "│   └── 24b2f238e155bf649c3cfe226c180b188d28e2\n",
      "├── 66\n",
      "│   └── 8e38954d99aaba357747323a15e6bd98e7e003\n",
      "├── 68\n",
      "│   └── c7eca3758e74af8889e9115c399de98b920a42\n",
      "├── 78\n",
      "│   └── 68741f490a738408439069c314343e3515186f\n",
      "├── 7e\n",
      "│   └── 38902bd1e49d9ce6eafb3363b42ce32b515b89\n",
      "├── 8f\n",
      "│   └── 359437267d18df043dda379a35243ac3e82c70\n",
      "├── 95\n",
      "│   └── 61939ef1ac6b7831556570c34088ada3453ae6\n",
      "├── 96\n",
      "│   └── ad78dd800e1c5839ebefbdc1551157dbd328fc\n",
      "├── 9d\n",
      "│   └── c6f3be39221af1e8db107a22a4e41485f04335\n",
      "├── a6\n",
      "│   └── 3cbb17d28c9f1f0598f89eb440df8af2739b7a\n",
      "├── b4\n",
      "│   └── c02ee4250ce8413ea35f457c6e8a2f3c2902ff\n",
      "├── b9\n",
      "│   └── d08cf37c10975bbb0148538faa9f9ed5c67d22\n",
      "├── cb\n",
      "│   └── fb58bc686ede6741456b917f7fa4139956f2dd\n",
      "├── cc\n",
      "│   └── b345d5ebd3e29c023b3c155b384265c4e395df\n",
      "├── e8\n",
      "│   └── 03e574f460460aae052449f95dae61aca722bb\n",
      "├── eb\n",
      "│   └── bed8c9c99e85944802547a7f6b1ecc786f3ad1\n",
      "├── ec\n",
      "│   └── e6e11424b1f09cfc2bab1bddfe61dcc6545944\n",
      "├── ee\n",
      "│   ├── 6d50f269081cc3f6c7d7e2b0c28c366fd66802\n",
      "│   └── d3e6e7dfe575f006667a19f0c1857fca9e5ce2\n",
      "├── ef\n",
      "│   └── a6e8b2d99c3007627cad92d4507a26ba8291d5\n",
      "├── ff\n",
      "│   └── b47992e4068826a071dc49e699c37eda3ec38e\n",
      "├── info\n",
      "└── pack\n",
      "\n",
      "32 directories, 31 files\n"
     ]
    }
   ],
   "source": [
    "%%bash\n",
    "cd ~/Desktop/flask-minitwit-mongodb\n",
    "tree .git/objects"
   ]
  },
  {
   "cell_type": "code",
   "execution_count": 38,
   "metadata": {
    "slideshow": {
     "slide_type": "subslide"
    }
   },
   "outputs": [
    {
     "name": "stdout",
     "output_type": "stream",
     "text": [
      "total 8\n",
      "-r--r--r--  1 ropf  staff  170 Feb  3 13:54 e6e11424b1f09cfc2bab1bddfe61dcc6545944\n"
     ]
    }
   ],
   "source": [
    "%%bash\n",
    "cd ~/Desktop/flask-minitwit-mongodb\n",
    "ls -l .git/objects/ec"
   ]
  },
  {
   "cell_type": "code",
   "execution_count": 40,
   "metadata": {
    "slideshow": {
     "slide_type": "fragment"
    }
   },
   "outputs": [
    {
     "name": "stdout",
     "output_type": "stream",
     "text": [
      ".git/objects/ec/e6e11424b1f09cfc2bab1bddfe61dcc6545944: VAX COFF executable not stripped - version 8361\n"
     ]
    }
   ],
   "source": [
    "%%bash\n",
    "cd ~/Desktop/flask-minitwit-mongodb\n",
    "file .git/objects/ec/e6e11424b1f09cfc2bab1bddfe61dcc6545944"
   ]
  },
  {
   "cell_type": "code",
   "execution_count": 41,
   "metadata": {
    "slideshow": {
     "slide_type": "fragment"
    }
   },
   "outputs": [
    {
     "name": "stdout",
     "output_type": "stream",
     "text": [
      "x\u0001��A\n",
      "�0\u0010\u0000=�\u0015�\u0001e�I�\u0006D\u0014� �\u0017�\u0001�d�Bkk���-�\u0004o�\u001c",
      "�\t�0<\n",
      "��E�\"P�\u000b",
      "\u0012ɩ$�sH&q��Ul�v\u0018���!����<\u000b",
      "�\n",
      ">�� �Uc�u�\u0013�#L\u0016�l�0i��w��\u0019v�|�\u0019��Ar?\u0013�9��\u0015���\u001f�*��\u0006jm�B��%\u001a�j��i�\u001a�u�\\\u0004N�}w�t_��N*"
     ]
    }
   ],
   "source": [
    "%%bash\n",
    "cd ~/Desktop/flask-minitwit-mongodb\n",
    "cat .git/objects/ec/e6e11424b1f09cfc2bab1bddfe61dcc6545944"
   ]
  },
  {
   "cell_type": "code",
   "execution_count": 218,
   "metadata": {
    "slideshow": {
     "slide_type": "fragment"
    }
   },
   "outputs": [
    {
     "name": "stdout",
     "output_type": "stream",
     "text": [
      "00000000: 7801 a58e 410a c230 1000 3df7 15fb 0165  x...A..0..=....e\n",
      "00000010: bb49 9a06 4414 a920 8817 f101 9b64 a342  .I..D.. .....d.B\n",
      "00000020: 6b6b 88e0 f32d f804 6fc3 1c86 09e3 303c  kk...-..o.....0<\n",
      "00000030: 0a90 a645 c922 508b 0b12 c9a9 24c6 7348  ...E.\"P.....$.sH\n",
      "00000040: 2671 a4e4 556c b576 1885 b4b0 21ab aa89  &q..Ul.v....!...\n",
      "00000050: b33c 0ba0 0a3e b0e3 209a 5563 b175 9e13  .<...>.. .Uc.u..\n",
      "00000060: 8a23 4c16 916c db30 69ef a4e2 77b9 8f19  .#L..l.0i...w...\n",
      "00000070: 76bd 7cf8 19b3 c041 723f 13ac 39fd e815  v.|....Ar?..9...\n",
      "00000080: b6b7 811f fd2a 8cc3 066a 6dea b942 8d85  .....*...jm..B..\n",
      "00000090: 251a c46a b6f3 6991 7f1a d575 8a5c 044e  %..j..i....u.\\.N\n",
      "000000a0: c77d 77be 745f fef8 4e2a                 .}w.t_..N*\n"
     ]
    }
   ],
   "source": [
    "%%bash\n",
    "cd ~/Desktop/flask-minitwit-mongodb\n",
    "xxd .git/objects/ec/e6e11424b1f09cfc2bab1bddfe61dcc6545944"
   ]
  },
  {
   "cell_type": "markdown",
   "metadata": {
    "slideshow": {
     "slide_type": "subslide"
    }
   },
   "source": [
    "### What was that?\n",
    "\n",
    "  * Explain to your group fellows what you observe and what you think you think the file `.git/objects/ec/e6e11424b1f09cfc2bab1bddfe61dcc6545944` actually contains."
   ]
  },
  {
   "cell_type": "markdown",
   "metadata": {
    "slideshow": {
     "slide_type": "subslide"
    }
   },
   "source": [
    "### Your Turn! -  `Task3.md`\n",
    "<img src=\"https://media.giphy.com/media/13GIgrGdslD9oQ/giphy.gif\" width=50%/>\n",
    "\n",
    "Let's inspect this Git object more closely.\n",
    "\n",
    "Make use of the small program `inspect_git_object1.py` from this sessions directory and run it with:\n",
    "\n",
    "```bash\n",
    "python inspect_git_object1.py\n",
    "```\n",
    "\n",
    "  * What does it print?\n",
    "  * What does it do?"
   ]
  },
  {
   "cell_type": "code",
   "execution_count": 86,
   "metadata": {},
   "outputs": [
    {
     "name": "stdout",
     "output_type": "stream",
     "text": [
      "commit 242\u0000tree 1e9ced293fe5bacf5fad2fb3d84490de24ea5273\n",
      "parent 03cbca9ace4a367089baf0e920f7002786a24b9e\n",
      "author Alexandre Ferland <aferlandqc@gmail.com> 1451920267 -0500\n",
      "committer Alexandre Ferland <aferlandqc@gmail.com> 1451920267 -0500\n",
      "\n",
      "Update LICENSE\n"
     ]
    }
   ],
   "source": [
    "import os\n",
    "import zlib\n",
    "\n",
    "\n",
    "fname = os.path.join(os.environ['HOME'], \"Desktop\", \"flask-minitwit-mongodb\", \n",
    "                     \".git\", \"objects\", \"ec\", \n",
    "                     \"e6e11424b1f09cfc2bab1bddfe61dcc6545944\")\n",
    "with open(fname, 'rb') as fp:\n",
    "    file_contents = fp.read()\n",
    "\n",
    "uncompressed_file_contents = zlib.decompress(file_contents)\n",
    "uncompressed_file_contents = uncompressed_file_contents.decode('ascii')\n",
    "print(uncompressed_file_contents)"
   ]
  },
  {
   "cell_type": "markdown",
   "metadata": {
    "slideshow": {
     "slide_type": "subslide"
    }
   },
   "source": [
    "#### What about a tree object?"
   ]
  },
  {
   "cell_type": "code",
   "execution_count": 91,
   "metadata": {},
   "outputs": [
    {
     "name": "stdout",
     "output_type": "stream",
     "text": [
      "b'tree 307\\x00100644 .gitignore\\x007\\xb5\\xec\\xc8\\x85\\xe9\\xbbY[_\\xa3\\xa8\\xbf{\\x92\\x9a/\\xb2\\xf3\\x85100644 LICENSE\\x00!^\\xb8w\\x91.\\x17F\\x1f\\x83\\xc4\\x135\\xb5\\x81\\x8bm\\xa2{\\xe1100644 README.md\\x00\\nMW\\xd3(\\xa4p\\x97\\x8f\\xf1\\xa6\\xed\\xa3\\x02\\xf7\"<\\xad0 100644 minitwit.py\\x00\\xee\\xd3\\xe6\\xe7\\xdf\\xe5u\\xf0\\x06fz\\x19\\xf0\\xc1\\x85\\x7f\\xca\\x9e\\\\\\xe2100644 minitwit_tests.py\\x00\\x8f5\\x947&}\\x18\\xdf\\x04=\\xda7\\x9a5$:\\xc3\\xe8,p100644 requirements.txt\\x00\\xb9\\xd0\\x8c\\xf3|\\x10\\x97[\\xbb\\x01HS\\x8f\\xaa\\x9f\\x9e\\xd5\\xc6}\"40000 static\\x00\\xe8\\x03\\xe5t\\xf4`F\\n\\xae\\x05$I\\xf9]\\xaea\\xac\\xa7\"\\xbb40000 templates\\x00GCY\\x9e3\\xb0\\xac{\\xe2<c5qH\\xdf\\xc1\\xf3Z-\\xcc'\n"
     ]
    }
   ],
   "source": [
    "import os\n",
    "import zlib\n",
    "\n",
    "\n",
    "fname = os.path.join(os.environ['HOME'], \"Desktop\", \"flask-minitwit-mongodb\", \n",
    "                     \".git\", \"objects\", \"1e\", \n",
    "                     \"9ced293fe5bacf5fad2fb3d84490de24ea5273\")\n",
    "with open(fname, 'rb') as fp:\n",
    "    file_contents = fp.read()\n",
    "\n",
    "uncompressed_file_contents = zlib.decompress(file_contents)\n",
    "# See https://stackoverflow.com/a/35902553 for decoding futher\n",
    "print(uncompressed_file_contents)"
   ]
  },
  {
   "cell_type": "code",
   "execution_count": 92,
   "metadata": {},
   "outputs": [
    {
     "name": "stdout",
     "output_type": "stream",
     "text": [
      "100644 blob 37b5ecc885e9bb595b5fa3a8bf7b929a2fb2f385\t.gitignore\n",
      "100644 blob 215eb877912e17461f83c41335b5818b6da27be1\tLICENSE\n",
      "100644 blob 0a4d57d328a470978ff1a6eda302f7223cad3020\tREADME.md\n",
      "100644 blob eed3e6e7dfe575f006667a19f0c1857fca9e5ce2\tminitwit.py\n",
      "100644 blob 8f359437267d18df043dda379a35243ac3e82c70\tminitwit_tests.py\n",
      "100644 blob b9d08cf37c10975bbb0148538faa9f9ed5c67d22\trequirements.txt\n",
      "040000 tree e803e574f460460aae052449f95dae61aca722bb\tstatic\n",
      "040000 tree 4743599e33b0ac7be23c63357148dfc1f35a2dcc\ttemplates\n"
     ]
    }
   ],
   "source": [
    "%%bash\n",
    "cd ~/Desktop/flask-minitwit-mongodb\n",
    "git ls-tree HEAD"
   ]
  },
  {
   "cell_type": "markdown",
   "metadata": {
    "slideshow": {
     "slide_type": "subslide"
    }
   },
   "source": [
    "#### What about a blob object?"
   ]
  },
  {
   "cell_type": "code",
   "execution_count": 94,
   "metadata": {},
   "outputs": [
    {
     "name": "stdout",
     "output_type": "stream",
     "text": [
      "blob 6870\u0000# -*- coding: utf-8 -*-\n",
      "import datetime\n",
      "from hashlib import md5\n",
      "\n",
      "import pytz\n",
      "from flask import Flask, request, session, url_for, redirect, \\\n",
      "    render_template, abort, g, flash\n",
      "from werkzeug.security import check_password_hash, generate_password_hash\n",
      "from flask.ext.pymongo import PyMongo\n",
      "from bson.objectid import ObjectId\n",
      "\n",
      "# create our little application :)\n",
      "app = Flask(__name__)\n",
      "\n",
      "# setup mongodb\n",
      "mongo = PyMongo(app)\n",
      "\n",
      "# Load default config and override config from an environment variable\n",
      "app.config.update(dict(\n",
      "    DEBUG=True,\n",
      "    SECRET_KEY='development key'))\n",
      "app.config.from_envvar('MINITWIT_SETTINGS', silent=True)\n",
      "\n",
      "\n",
      "def get_user_id(username):\n",
      "    \"\"\"Convenience method to look up the id for a username.\"\"\"\n",
      "    rv = mongo.db.user.find_one({'username': username}, {'_id': 1})\n",
      "    return rv['_id'] if rv else None\n",
      "\n",
      "\n",
      "def format_datetime(timestamp):\n",
      "    \"\"\"Format a timestamp for display.\"\"\"\n",
      "    return timestamp.replace(tzinfo=pytz.utc).strftime('%Y-%m-%d @ %H:%M')\n",
      "\n",
      "\n",
      "def gravatar_url(email, size=80):\n",
      "    \"\"\"Return the gravatar image for the given email address.\"\"\"\n",
      "    return 'http://www.gravatar.com/avatar/%s?d=identicon&s=%d' % \\\n",
      "           (md5(email.strip().lower().encode('utf-8')).hexdigest(), size)\n",
      "\n",
      "\n",
      "@app.before_request\n",
      "def before_request():\n",
      "    g.user = None\n",
      "    if 'user_id' in session:\n",
      "        g.user = mongo.db.user.find_one({'_id': ObjectId(session['user_id'])})\n",
      "\n",
      "\n",
      "@app.route('/')\n",
      "def timeline():\n",
      "    \"\"\"Shows a users timeline or if no user is logged in it will\n",
      "    redirect to the public timeline.  This timeline shows the user's\n",
      "    messages as well as all the messages of followed users.\n",
      "    \"\"\"\n",
      "    if not g.user:\n",
      "        return redirect(url_for('public_timeline'))\n",
      "    followed = mongo.db.follower.find_one(\n",
      "        {'who_id': ObjectId(session['user_id'])}, {'whom_id': 1})\n",
      "    if followed is None:\n",
      "        followed = {'whom_id': []}\n",
      "    messages = mongo.db.message.find(\n",
      "        {'$or': [\n",
      "            {'author_id': ObjectId(session['user_id'])},\n",
      "            {'author_id': {'$in': followed['whom_id']}}\n",
      "        ]}).sort('pub_date', -1)\n",
      "    return render_template('timeline.html', messages=messages)\n",
      "\n",
      "\n",
      "@app.route('/public')\n",
      "def public_timeline():\n",
      "    \"\"\"Displays the latest messages of all users.\"\"\"\n",
      "    messages = mongo.db.message.find().sort('pub_date', -1)\n",
      "    return render_template('timeline.html', messages=messages)\n",
      "\n",
      "\n",
      "@app.route('/<username>')\n",
      "def user_timeline(username):\n",
      "    \"\"\"Display's a users tweets.\"\"\"\n",
      "    profile_user = mongo.db.user.find_one({'username': username})\n",
      "    if profile_user is None:\n",
      "        abort(404)\n",
      "    followed = False\n",
      "    if g.user:\n",
      "        followed = mongo.db.follower.find_one(\n",
      "            {'who_id': ObjectId(session['user_id']),\n",
      "             'whom_id': {'$in': [ObjectId(profile_user['_id'])]}}) is not None\n",
      "    messages = mongo.db.message.find(\n",
      "        {'author_id': ObjectId(profile_user['_id'])}).sort('pub_date', -1)\n",
      "    return render_template('timeline.html', messages=messages,\n",
      "                           followed=followed, profile_user=profile_user)\n",
      "\n",
      "\n",
      "@app.route('/<username>/follow')\n",
      "def follow_user(username):\n",
      "    \"\"\"Adds the current user as follower of the given user.\"\"\"\n",
      "    if not g.user:\n",
      "        abort(401)\n",
      "    whom_id = get_user_id(username)\n",
      "    if whom_id is None:\n",
      "        abort(404)\n",
      "    mongo.db.follower.update(\n",
      "        {'who_id': ObjectId(session['user_id'])},\n",
      "        {'$push': {'whom_id': whom_id}}, upsert=True)\n",
      "    flash('You are now following \"%s\"' % username)\n",
      "    return redirect(url_for('user_timeline', username=username))\n",
      "\n",
      "\n",
      "@app.route('/<username>/unfollow')\n",
      "def unfollow_user(username):\n",
      "    \"\"\"Removes the current user as follower of the given user.\"\"\"\n",
      "    if not g.user:\n",
      "        abort(401)\n",
      "    whom_id = get_user_id(username)\n",
      "    if whom_id is None:\n",
      "        abort(404)\n",
      "    mongo.db.follower.update(\n",
      "        {'who_id': ObjectId(session['user_id'])},\n",
      "        {'$pull': {'whom_id': whom_id}})\n",
      "    flash('You are no longer following \"%s\"' % username)\n",
      "    return redirect(url_for('user_timeline', username=username))\n",
      "\n",
      "\n",
      "@app.route('/add_message', methods=['POST'])\n",
      "def add_message():\n",
      "    \"\"\"Registers a new message for the user.\"\"\"\n",
      "    if 'user_id' not in session:\n",
      "        abort(401)\n",
      "    if request.form['text']:\n",
      "        user = mongo.db.user.find_one(\n",
      "            {'_id': ObjectId(session['user_id'])}, {'email': 1, 'username': 1})\n",
      "        mongo.db.message.insert(\n",
      "            {'author_id': ObjectId(session['user_id']),\n",
      "             'email': user['email'],\n",
      "             'username': user['username'],\n",
      "             'text': request.form['text'],\n",
      "             'pub_date': datetime.datetime.utcnow()})\n",
      "        flash('Your message was recorded')\n",
      "    return redirect(url_for('timeline'))\n",
      "\n",
      "\n",
      "@app.route('/login', methods=['GET', 'POST'])\n",
      "def login():\n",
      "    \"\"\"Logs the user in.\"\"\"\n",
      "    if g.user:\n",
      "        return redirect(url_for('timeline'))\n",
      "    error = None\n",
      "    if request.method == 'POST':\n",
      "        user = mongo.db.user.find_one({'username': request.form['username']})\n",
      "        if user is None:\n",
      "            error = 'Invalid username'\n",
      "        elif not check_password_hash(user['pw_hash'], request.form['password']):\n",
      "            error = 'Invalid password'\n",
      "        else:\n",
      "            flash('You were logged in')\n",
      "            session['user_id'] = str(user['_id'])\n",
      "            return redirect(url_for('timeline'))\n",
      "    return render_template('login.html', error=error)\n",
      "\n",
      "\n",
      "@app.route('/register', methods=['GET', 'POST'])\n",
      "def register():\n",
      "    \"\"\"Registers the user.\"\"\"\n",
      "    if g.user:\n",
      "        return redirect(url_for('timeline'))\n",
      "    error = None\n",
      "    if request.method == 'POST':\n",
      "        if not request.form['username']:\n",
      "            error = 'You have to enter a username'\n",
      "        elif not request.form['email'] or '@' not in request.form['email']:\n",
      "            error = 'You have to enter a valid email address'\n",
      "        elif not request.form['password']:\n",
      "            error = 'You have to enter a password'\n",
      "        elif request.form['password'] != request.form['password2']:\n",
      "            error = 'The two passwords do not match'\n",
      "        elif get_user_id(request.form['username']) is not None:\n",
      "            error = 'The username is already taken'\n",
      "        else:\n",
      "            mongo.db.user.insert(\n",
      "                {'username': request.form['username'],\n",
      "                 'email': request.form['email'],\n",
      "                 'pw_hash': generate_password_hash(request.form['password'])})\n",
      "            flash('You were successfully registered and can login now')\n",
      "            return redirect(url_for('login'))\n",
      "    return render_template('register.html', error=error)\n",
      "\n",
      "\n",
      "@app.route('/logout')\n",
      "def logout():\n",
      "    \"\"\"Logs the user out.\"\"\"\n",
      "    flash('You were logged out')\n",
      "    session.pop('user_id', None)\n",
      "    return redirect(url_for('public_timeline'))\n",
      "\n",
      "\n",
      "# add some filters to jinja\n",
      "app.jinja_env.filters['datetimeformat'] = format_datetime\n",
      "app.jinja_env.filters['gravatar'] = gravatar_url\n",
      "\n",
      "if __name__ == '__main__':\n",
      "    app.run()\n"
     ]
    }
   ],
   "source": [
    "import os\n",
    "import zlib\n",
    "\n",
    "\n",
    "fname = os.path.join(os.environ['HOME'], \"Desktop\", \"flask-minitwit-mongodb\", \n",
    "                     \".git\", \"objects\", \"ee\", \n",
    "                     \"d3e6e7dfe575f006667a19f0c1857fca9e5ce2\")\n",
    "with open(fname, 'rb') as fp:\n",
    "    file_contents = fp.read()\n",
    "\n",
    "uncompressed_file_contents = zlib.decompress(file_contents).decode('utf-8')\n",
    "print(uncompressed_file_contents)"
   ]
  },
  {
   "cell_type": "code",
   "execution_count": 68,
   "metadata": {},
   "outputs": [
    {
     "name": "stdout",
     "output_type": "stream",
     "text": [
      "# -*- coding: utf-8 -*-\n",
      "import datetime\n",
      "from hashlib import md5\n",
      "\n",
      "import pytz\n",
      "from flask import Flask, request, session, url_for, redirect, \\\n",
      "    render_template, abort, g, flash\n",
      "from werkzeug.security import check_password_hash, generate_password_hash\n",
      "from flask.ext.pymongo import PyMongo\n",
      "from bson.objectid import ObjectId\n"
     ]
    }
   ],
   "source": [
    "%%bash\n",
    "cd ~/Desktop/flask-minitwit-mongodb\n",
    "git cat-file -p eed3e6e7dfe575f006667a19f0c1857fca9e5ce2 | head"
   ]
  },
  {
   "cell_type": "markdown",
   "metadata": {
    "slideshow": {
     "slide_type": "subslide"
    }
   },
   "source": [
    "### What was all that?\n",
    "\n",
    "Reflect with your group members on what you just have done.\n",
    "\n",
    "  - What did you learn about how Git stores files?\n",
    "  - How does it store history?\n",
    "  - How else could a VCS store history?\n",
    "  \n",
    "----"
   ]
  },
  {
   "cell_type": "markdown",
   "metadata": {
    "slideshow": {
     "slide_type": "subslide"
    }
   },
   "source": [
    "## Basics\n",
    "\n",
    "### Git keeps 'Snapshots' of data\n",
    "\n",
    "![](http://git-scm.com/figures/18333fig0105-tn.png)\n",
    "\n",
    "  * On every commit, Git takes a picture of what files look like at that moment and stores a reference to that snapshot. \n",
    "  * For efficiency, unchanged files are stored by links to already existing ones.\n",
    "\n",
    "\n",
    "### CVCS keep deltas of data\n",
    "\n",
    "![](http://git-scm.com/figures/18333fig0104-tn.png)\n",
    "\n",
    "\n",
    "## Properties\n",
    "\n",
    "  * Nearly every operation is local\n",
    "    * Most operations in Git only need local files and no information from another network\n",
    "    * You can work from the train...\n",
    "  * Every operation on files is check-summed with a SHA-1 hash "
   ]
  },
  {
   "cell_type": "markdown",
   "metadata": {
    "slideshow": {
     "slide_type": "subslide"
    }
   },
   "source": [
    "# A bit of VCS history\n",
    "\n",
    "## Local Version Control Systems\n",
    "\n",
    "  * Many people do version-control by copying files into another directory\n",
    "    * perhaps time-stamped\n",
    "  * **Drawback**: error prone! It is easy to overwrite files when in the wrong directory\n",
    "  * **Solution**: local revision control systems, like `rcs` are simple databases keeping all changes to files under revision control\n",
    "    * keeps patch sets, that is, differences between files, from one revision to another in a special format on disk\n",
    "  \n",
    "![](http://git-scm.com/figures/18333fig0101-tn.png)"
   ]
  },
  {
   "cell_type": "markdown",
   "metadata": {
    "slideshow": {
     "slide_type": "subslide"
    }
   },
   "source": [
    "# Centralized Version Control Systems\n",
    "\n",
    "  * To work collaboratively and to enable versioning Centralized Version Control Systems (CVCSs) were developed, such as:\n",
    "    * [Concurrent Versions System (CVS)](http://savannah.nongnu.org/projects/cvs)\n",
    "    * [Subversion (SVN)](https://subversion.apache.org/)\n",
    "    \n",
    "  \n",
    "![](http://git-scm.com/figures/18333fig0102-tn.png)\n",
    "    \n",
    "  * **Advantage**:\n",
    "    * You can collaborate and know approximately what others are working on and commiting\n",
    "    * One can administrate things like access controll, etc.\n",
    "  * **Drawback**:\n",
    "    * Central server is single point of failure"
   ]
  },
  {
   "cell_type": "markdown",
   "metadata": {
    "slideshow": {
     "slide_type": "subslide"
    }
   },
   "source": [
    "# Distributed Version Control Systems\n",
    "\n",
    "  * To work collaboratively on distributed repositories Distributed Version Control Systems (DVCSs) were developed, such as:\n",
    "    * [Git](https://git-scm.com)\n",
    "    * [Mercurial](https://www.mercurial-scm.org/)\n",
    "    * [Darcs](http://darcs.net)\n",
    "![](http://git-scm.com/figures/18333fig0103-tn.png)\n",
    "  * More than a snapshot of the latest files on server\n",
    "  * Full clone of the repository, i.e., every checkout is a full backup of all the data including history\n",
    "  * Possibly more flexible workflows than with CVCS"
   ]
  },
  {
   "cell_type": "markdown",
   "metadata": {
    "slideshow": {
     "slide_type": "fragment"
    }
   },
   "source": [
    "The slides above are adapted from: https://git-scm.com/book/en/v2/Getting-Started-About-Version-Control"
   ]
  },
  {
   "cell_type": "markdown",
   "metadata": {
    "slideshow": {
     "slide_type": "subslide"
    }
   },
   "source": [
    "# Branching, Merging, and Rebasing"
   ]
  },
  {
   "cell_type": "markdown",
   "metadata": {
    "slideshow": {
     "slide_type": "subslide"
    }
   },
   "source": [
    "## What is a branch?\n",
    "\n",
    "  > A branch in Git is simply a lightweight movable pointer to one of these commits. The default branch name in Git is `master`. As you start making commits, you’re given a `master` branch that points to the last commit you made. Every time you commit, the master branch pointer moves forward automatically.\n",
    "  > \n",
    "  > Note: The “`master`” branch in Git is not a special branch. It is exactly like any other branch. The only reason nearly every repository has one is that the git init command creates it by default and most people don’t bother to change it.\n",
    "  >\n",
    "  > https://git-scm.com/book/en/v2/Git-Branching-Branches-in-a-Nutshell#ch03-git-branching\n"
   ]
  },
  {
   "cell_type": "markdown",
   "metadata": {
    "slideshow": {
     "slide_type": "subslide"
    }
   },
   "source": [
    "### Your Turn! -  `Task4.md`\n",
    "<img src=\"https://media.giphy.com/media/13GIgrGdslD9oQ/giphy.gif\" width=50%/>\n",
    "\n",
    "\n",
    "\n",
    "\n",
    "Let's build up an example on which we can perform branching, merging, and rebasing"
   ]
  },
  {
   "cell_type": "code",
   "execution_count": 143,
   "metadata": {},
   "outputs": [
    {
     "name": "stdout",
     "output_type": "stream",
     "text": [
      "Archive:  Initial sources.zip\n",
      "  inflating: minitwit_flagging_support.patch  \n",
      "  inflating: minitwit_tests.py       \n",
      "  inflating: schema.sql              \n",
      "  inflating: Makefile                \n",
      "  inflating: README                  \n",
      "  inflating: minitwit.py             \n",
      "  inflating: .gitignore              \n",
      "   creating: static/\n",
      "  inflating: static/style.css        \n",
      "  inflating: PATCHME.md              \n",
      "   creating: templates/\n",
      "  inflating: templates/layout.html   \n",
      "  inflating: templates/register.html  \n",
      "  inflating: templates/timeline.html  \n",
      "  inflating: templates/login.html    \n",
      "  inflating: control.sh              \n",
      "  inflating: flag_tool.c             \n"
     ]
    },
    {
     "name": "stderr",
     "output_type": "stream",
     "text": [
      "Warning: Failed to set locale category LC_NUMERIC to en_DK.\n",
      "Warning: Failed to set locale category LC_TIME to en_DK.\n",
      "Warning: Failed to set locale category LC_COLLATE to en_DK.\n",
      "Warning: Failed to set locale category LC_MONETARY to en_DK.\n",
      "Warning: Failed to set locale category LC_MESSAGES to en_DK.\n",
      "--2020-02-05 00:13:50--  https://github.com/itu-devops/2020-spring/raw/master/sessions/session_02/Initial%20sources.zip\n",
      "Resolving github.com (github.com)... 140.82.118.4\n",
      "Connecting to github.com (github.com)|140.82.118.4|:443... connected.\n",
      "HTTP request sent, awaiting response... 302 Found\n",
      "Location: https://raw.githubusercontent.com/itu-devops/2020-spring/master/sessions/session_02/Initial%20sources.zip [following]\n",
      "--2020-02-05 00:13:50--  https://raw.githubusercontent.com/itu-devops/2020-spring/master/sessions/session_02/Initial%20sources.zip\n",
      "Resolving raw.githubusercontent.com (raw.githubusercontent.com)... 199.232.40.133\n",
      "Connecting to raw.githubusercontent.com (raw.githubusercontent.com)|199.232.40.133|:443... connected.\n",
      "HTTP request sent, awaiting response... 200 OK\n",
      "Length: 11570 (11K) [application/zip]\n",
      "Saving to: ‘Initial sources.zip’\n",
      "\n",
      "     0K .......... .                                          100% 4.62M=0.002s\n",
      "\n",
      "2020-02-05 00:13:50 (4.62 MB/s) - ‘Initial sources.zip’ saved [11570/11570]\n",
      "\n"
     ]
    }
   ],
   "source": [
    "%%bash\n",
    "mkdir ~/Desktop/itu-minitwit-start\n",
    "cd ~/Desktop/itu-minitwit-start\n",
    "wget https://github.com/itu-devops/2020-spring/raw/master/sessions/session_02/Initial%20sources.zip\n",
    "unzip Initial\\ sources.zip"
   ]
  },
  {
   "cell_type": "markdown",
   "metadata": {
    "slideshow": {
     "slide_type": "subslide"
    }
   },
   "source": [
    "We just create a commit with some of the basic files:"
   ]
  },
  {
   "cell_type": "code",
   "execution_count": 144,
   "metadata": {},
   "outputs": [
    {
     "name": "stdout",
     "output_type": "stream",
     "text": [
      "Initialized empty Git repository in /Users/ropf/Desktop/itu-minitwit-start/.git/\n",
      "[master (root-commit) 98f45be] Initial commit of MiniTwit code artifacts\n",
      " 8 files changed, 715 insertions(+)\n",
      " create mode 100755 README\n",
      " create mode 100755 minitwit.py\n",
      " create mode 100755 minitwit_tests.py\n",
      " create mode 100755 static/style.css\n",
      " create mode 100755 templates/layout.html\n",
      " create mode 100755 templates/login.html\n",
      " create mode 100755 templates/register.html\n",
      " create mode 100755 templates/timeline.html\n"
     ]
    }
   ],
   "source": [
    "%%bash\n",
    "cd ~/Desktop/itu-minitwit-start\n",
    "git init\n",
    "\n",
    "git add templates/*\n",
    "git add static/*\n",
    "git add minitwit.py minitwit_tests.py\n",
    "git add README\n",
    "\n",
    "git commit -m\"Initial commit of MiniTwit code artifacts\""
   ]
  },
  {
   "cell_type": "markdown",
   "metadata": {
    "slideshow": {
     "slide_type": "subslide"
    }
   },
   "source": [
    "#### How many branches are there?"
   ]
  },
  {
   "cell_type": "code",
   "execution_count": 145,
   "metadata": {
    "slideshow": {
     "slide_type": "-"
    }
   },
   "outputs": [
    {
     "name": "stdout",
     "output_type": "stream",
     "text": [
      "* master\n"
     ]
    }
   ],
   "source": [
    "%%bash\n",
    "cd ~/Desktop/itu-minitwit-start\n",
    "git branch --list --all"
   ]
  },
  {
   "cell_type": "code",
   "execution_count": 146,
   "metadata": {
    "slideshow": {
     "slide_type": "subslide"
    }
   },
   "outputs": [
    {
     "name": "stdout",
     "output_type": "stream",
     "text": [
      "98f45be (HEAD -> master, flag_feature) Initial commit of MiniTwit code artifacts\n"
     ]
    }
   ],
   "source": [
    "%%bash\n",
    "cd ~/Desktop/itu-minitwit-start\n",
    "git branch flag_feature  # Still on the master branch, see with:\n",
    "git log --oneline --decorate"
   ]
  },
  {
   "cell_type": "code",
   "execution_count": 147,
   "metadata": {},
   "outputs": [
    {
     "name": "stdout",
     "output_type": "stream",
     "text": [
      "98f45be (HEAD -> flag_feature, master) Initial commit of MiniTwit code artifacts\n"
     ]
    },
    {
     "name": "stderr",
     "output_type": "stream",
     "text": [
      "Switched to branch 'flag_feature'\n"
     ]
    }
   ],
   "source": [
    "%%bash\n",
    "cd ~/Desktop/itu-minitwit-start\n",
    "# Switch to the new branch:\n",
    "git checkout flag_feature  # Same as: git checkout -b flag_feature\n",
    "git log --oneline --decorate"
   ]
  },
  {
   "cell_type": "markdown",
   "metadata": {
    "slideshow": {
     "slide_type": "-"
    }
   },
   "source": [
    "To know what branch you are currently on Git keeps a special pointer called `HEAD`.\n",
    "\n",
    "<img src=\"http://git-scm.com/figures/18333fig0305-tn.png\" width=\"30%\">\n",
    "\n",
    "The two `branch`and `checkout` commands can be abbreviated as: `git checkout -b flag_feature`"
   ]
  },
  {
   "cell_type": "markdown",
   "metadata": {
    "slideshow": {
     "slide_type": "subslide"
    }
   },
   "source": [
    "#### Let's commit some work to this new branch"
   ]
  },
  {
   "cell_type": "code",
   "execution_count": 148,
   "metadata": {},
   "outputs": [
    {
     "name": "stdout",
     "output_type": "stream",
     "text": [
      "[flag_feature c8ffcbc] Added code for flagging tool\n",
      " 1 file changed, 63 insertions(+)\n",
      " create mode 100644 flag_tool.c\n",
      "[flag_feature 0793048] Added build code for flagging tool\n",
      " 1 file changed, 8 insertions(+)\n",
      " create mode 100644 Makefile\n"
     ]
    }
   ],
   "source": [
    "%%bash\n",
    "cd ~/Desktop/itu-minitwit-start\n",
    "git add flag_tool.c\n",
    "git commit -m\"Added code for flagging tool\"\n",
    "\n",
    "git add Makefile\n",
    "git commit -m\"Added build code for flagging tool\""
   ]
  },
  {
   "cell_type": "code",
   "execution_count": 149,
   "metadata": {
    "slideshow": {
     "slide_type": "skip"
    }
   },
   "outputs": [
    {
     "name": "stdout",
     "output_type": "stream",
     "text": [
      "Created images/git-log1.png\n"
     ]
    }
   ],
   "source": [
    "%%bash\n",
    "python ./git-graph.py ~/Desktop/itu-minitwit-start --to=images/git-log1.png"
   ]
  },
  {
   "cell_type": "markdown",
   "metadata": {
    "slideshow": {
     "slide_type": "subslide"
    }
   },
   "source": [
    "![](images/git-log1.png)"
   ]
  },
  {
   "cell_type": "markdown",
   "metadata": {
    "slideshow": {
     "slide_type": "slide"
    }
   },
   "source": [
    "### Your Turn! -  `Task5.md`\n",
    "<img src=\"https://media.giphy.com/media/13GIgrGdslD9oQ/giphy.gif\" width=50%/>\n",
    "\n"
   ]
  },
  {
   "cell_type": "code",
   "execution_count": 150,
   "metadata": {
    "slideshow": {
     "slide_type": "subslide"
    }
   },
   "outputs": [
    {
     "name": "stdout",
     "output_type": "stream",
     "text": [
      "[control_feature f39885a] Added tool for controlling application\n",
      " 1 file changed, 26 insertions(+)\n",
      " create mode 100755 control.sh\n"
     ]
    },
    {
     "name": "stderr",
     "output_type": "stream",
     "text": [
      "Switched to a new branch 'control_feature'\n"
     ]
    }
   ],
   "source": [
    "%%bash\n",
    "cd ~/Desktop/itu-minitwit-start\n",
    "git checkout -b control_feature\n",
    "git add control.sh\n",
    "git commit -m\"Added tool for controlling application\""
   ]
  },
  {
   "cell_type": "code",
   "execution_count": 151,
   "metadata": {},
   "outputs": [
    {
     "name": "stdout",
     "output_type": "stream",
     "text": [
      "[master 204b08b] Added ignore patterns\n",
      " 1 file changed, 57 insertions(+)\n",
      " create mode 100644 .gitignore\n"
     ]
    },
    {
     "name": "stderr",
     "output_type": "stream",
     "text": [
      "Switched to branch 'master'\n"
     ]
    }
   ],
   "source": [
    "%%bash\n",
    "cd ~/Desktop/itu-minitwit-start\n",
    "git checkout master\n",
    "\n",
    "git add .gitignore\n",
    "git commit -m\"Added ignore patterns\""
   ]
  },
  {
   "cell_type": "code",
   "execution_count": 152,
   "metadata": {
    "slideshow": {
     "slide_type": "skip"
    }
   },
   "outputs": [
    {
     "name": "stdout",
     "output_type": "stream",
     "text": [
      "Created images/git-log2.png\n"
     ]
    }
   ],
   "source": [
    "%%bash\n",
    "python ./git-graph.py ~/Desktop/itu-minitwit-start --to=images/git-log2.png"
   ]
  },
  {
   "cell_type": "markdown",
   "metadata": {
    "slideshow": {
     "slide_type": "subslide"
    }
   },
   "source": [
    "![](images/git-log2.png)"
   ]
  },
  {
   "cell_type": "markdown",
   "metadata": {
    "slideshow": {
     "slide_type": "subslide"
    }
   },
   "source": [
    "### Your Turn! -  `Task6.md`\n",
    "<img src=\"https://media.giphy.com/media/13GIgrGdslD9oQ/giphy.gif\" width=50%/>\n",
    "\n",
    "\n",
    "#### Merging two branches\n",
    "\n",
    "Which branch is merged into which one?"
   ]
  },
  {
   "cell_type": "code",
   "execution_count": 153,
   "metadata": {},
   "outputs": [
    {
     "name": "stdout",
     "output_type": "stream",
     "text": [
      "204b08b (HEAD -> master) Added ignore patterns\n",
      "98f45be Initial commit of MiniTwit code artifacts\n",
      "Updating 0793048..f39885a\n",
      "Fast-forward\n",
      " control.sh | 26 ++++++++++++++++++++++++++\n",
      " 1 file changed, 26 insertions(+)\n",
      " create mode 100755 control.sh\n"
     ]
    },
    {
     "name": "stderr",
     "output_type": "stream",
     "text": [
      "Switched to branch 'flag_feature'\n"
     ]
    }
   ],
   "source": [
    "%%bash\n",
    "cd ~/Desktop/itu-minitwit-start\n",
    "git log --oneline --decorate\n",
    "git checkout flag_feature\n",
    "git merge control_feature"
   ]
  },
  {
   "cell_type": "code",
   "execution_count": 154,
   "metadata": {
    "slideshow": {
     "slide_type": "skip"
    }
   },
   "outputs": [
    {
     "name": "stdout",
     "output_type": "stream",
     "text": [
      "Created images/git-log3.png\n"
     ]
    }
   ],
   "source": [
    "%%bash\n",
    "python ./git-graph.py ~/Desktop/itu-minitwit-start --to=images/git-log3.png"
   ]
  },
  {
   "cell_type": "markdown",
   "metadata": {
    "slideshow": {
     "slide_type": "subslide"
    }
   },
   "source": [
    "![](images/git-log3.png)"
   ]
  },
  {
   "cell_type": "markdown",
   "metadata": {
    "slideshow": {
     "slide_type": "subslide"
    }
   },
   "source": [
    "#### Fast-forward merge?\n",
    "\n",
    "  > You’ll notice the phrase “fast-forward” in that merge. Because the commit C4 pointed to by the branch hotfix you merged in was directly ahead of the commit C2 you’re on, Git simply moves the pointer forward. To phrase that another way, when you try to merge one commit with a commit that can be reached by following the first commit’s history, Git simplifies things by moving the pointer forward because there is no divergent work to merge together — this is called a “fast-forward.”\n",
    "  >\n",
    "  > https://git-scm.com/book/en/v2/Git-Branching-Basic-Branching-and-Merging"
   ]
  },
  {
   "cell_type": "code",
   "execution_count": 155,
   "metadata": {
    "slideshow": {
     "slide_type": "subslide"
    }
   },
   "outputs": [
    {
     "name": "stdout",
     "output_type": "stream",
     "text": [
      "Merge made by the 'recursive' strategy.\n",
      " Makefile    |  8 ++++++++\n",
      " control.sh  | 26 +++++++++++++++++++++++++\n",
      " flag_tool.c | 63 +++++++++++++++++++++++++++++++++++++++++++++++++++++++++++++\n",
      " 3 files changed, 97 insertions(+)\n",
      " create mode 100644 Makefile\n",
      " create mode 100755 control.sh\n",
      " create mode 100644 flag_tool.c\n"
     ]
    },
    {
     "name": "stderr",
     "output_type": "stream",
     "text": [
      "Switched to branch 'master'\n"
     ]
    }
   ],
   "source": [
    "%%bash\n",
    "cd ~/Desktop/itu-minitwit-start\n",
    "git checkout master\n",
    "git merge flag_feature"
   ]
  },
  {
   "cell_type": "code",
   "execution_count": 156,
   "metadata": {
    "slideshow": {
     "slide_type": "skip"
    }
   },
   "outputs": [
    {
     "name": "stdout",
     "output_type": "stream",
     "text": [
      "Created images/git-log4.png\n"
     ]
    }
   ],
   "source": [
    "%%bash\n",
    "python ./git-graph.py ~/Desktop/itu-minitwit-start --to=images/git-log4.png"
   ]
  },
  {
   "cell_type": "markdown",
   "metadata": {
    "slideshow": {
     "slide_type": "subslide"
    }
   },
   "source": [
    "![](images/git-log4.png)"
   ]
  },
  {
   "cell_type": "markdown",
   "metadata": {
    "slideshow": {
     "slide_type": "subslide"
    }
   },
   "source": [
    "#### Recursive merge?\n",
    "\n",
    "Find a nice explanation here: http://blog.plasticscm.com/2012/01/more-on-recursive-merge-strategy.html"
   ]
  },
  {
   "cell_type": "code",
   "execution_count": 157,
   "metadata": {
    "slideshow": {
     "slide_type": "subslide"
    }
   },
   "outputs": [
    {
     "name": "stdout",
     "output_type": "stream",
     "text": [
      "[complete_flag_feature 426ae12] Added patch to complete the flagging feature in Python code\n",
      " 2 files changed, 36 insertions(+)\n",
      " create mode 100644 PATCHME.md\n",
      " create mode 100644 minitwit_flagging_support.patch\n"
     ]
    },
    {
     "name": "stderr",
     "output_type": "stream",
     "text": [
      "Switched to a new branch 'complete_flag_feature'\n"
     ]
    }
   ],
   "source": [
    "%%bash\n",
    "cd ~/Desktop/itu-minitwit-start\n",
    "git checkout -b complete_flag_feature\n",
    "git add minitwit_flagging_support.patch PATCHME.md\n",
    "git commit -m\"Added patch to complete the flagging feature in Python code\""
   ]
  },
  {
   "cell_type": "code",
   "execution_count": 158,
   "metadata": {},
   "outputs": [
    {
     "name": "stdout",
     "output_type": "stream",
     "text": [
      "patching file minitwit.py\n",
      "diff --git a/minitwit.py b/minitwit.py\n",
      "index b69ab41..93ec7ff 100755\n",
      "--- a/minitwit.py\n",
      "+++ b/minitwit.py\n",
      "@@ -100,7 +100,7 @@ def timeline():\n",
      "     offset = request.args.get('offset', type=int)\n",
      "     return render_template('timeline.html', messages=query_db('''\n",
      "         select message.*, user.* from message, user\n",
      "-        where message.author_id = user.user_id and (\n",
      "+        where message.flagged = 0 and message.author_id = user.user_id and (\n",
      "             user.user_id = ? or\n",
      "             user.user_id in (select whom_id from follower\n",
      "                                     where who_id = ?))\n",
      "@@ -113,7 +113,7 @@ def public_timeline():\n",
      "     \"\"\"Displays the latest messages of all users.\"\"\"\n",
      "     return render_template('timeline.html', messages=query_db('''\n",
      "         select message.*, user.* from message, user\n",
      "-        where message.author_id = user.user_id\n",
      "+        where message.flagged = 0 and message.author_id = user.user_id\n",
      "         order by message.pub_date desc limit ?''', [PER_PAGE]))\n",
      " \n",
      " \n",
      "@@ -173,8 +173,8 @@ def add_message():\n",
      "     if 'user_id' not in session:\n",
      "         abort(401)\n",
      "     if request.form['text']:\n",
      "-        g.db.execute('''insert into message (author_id, text, pub_date)\n",
      "-            values (?, ?, ?)''', (session['user_id'], request.form['text'],\n",
      "+        g.db.execute('''insert into message (author_id, text, pub_date, flagged)\n",
      "+            values (?, ?, ?, 0)''', (session['user_id'], request.form['text'],\n",
      "                                   int(time.time())))\n",
      "         g.db.commit()\n",
      "         flash('Your message was recorded')\n"
     ]
    }
   ],
   "source": [
    "%%bash\n",
    "cd ~/Desktop/itu-minitwit-start\n",
    "\n",
    "patch minitwit.py < minitwit_flagging_support.patch\n",
    "git diff minitwit.py"
   ]
  },
  {
   "cell_type": "code",
   "execution_count": 159,
   "metadata": {},
   "outputs": [
    {
     "name": "stdout",
     "output_type": "stream",
     "text": [
      "rm 'minitwit_flagging_support.patch'\n",
      "[complete_flag_feature 1b91a4a] Merged patch to complete the flagging feature in Python code\n",
      " 2 files changed, 4 insertions(+), 35 deletions(-)\n",
      " delete mode 100644 minitwit_flagging_support.patch\n"
     ]
    }
   ],
   "source": [
    "%%bash\n",
    "cd ~/Desktop/itu-minitwit-start\n",
    "\n",
    "git add minitwit.py\n",
    "git rm minitwit_flagging_support.patch\n",
    "git commit -m\"Merged patch to complete the flagging feature in Python code\""
   ]
  },
  {
   "cell_type": "code",
   "execution_count": 160,
   "metadata": {
    "slideshow": {
     "slide_type": "skip"
    }
   },
   "outputs": [
    {
     "name": "stdout",
     "output_type": "stream",
     "text": [
      "Created images/git-log5.png\n"
     ]
    }
   ],
   "source": [
    "%%bash\n",
    "python ./git-graph.py ~/Desktop/itu-minitwit-start --to=images/git-log5.png"
   ]
  },
  {
   "cell_type": "markdown",
   "metadata": {
    "slideshow": {
     "slide_type": "subslide"
    }
   },
   "source": [
    "![](images/git-log5.png)"
   ]
  },
  {
   "cell_type": "code",
   "execution_count": 161,
   "metadata": {},
   "outputs": [
    {
     "name": "stdout",
     "output_type": "stream",
     "text": [
      "Updating f4e91ff..1b91a4a\n",
      "Fast-forward\n",
      " PATCHME.md  | 5 +++++\n",
      " minitwit.py | 8 ++++----\n",
      " 2 files changed, 9 insertions(+), 4 deletions(-)\n",
      " create mode 100644 PATCHME.md\n",
      "  complete_flag_feature\n",
      "  control_feature\n",
      "  flag_feature\n",
      "* master\n"
     ]
    },
    {
     "name": "stderr",
     "output_type": "stream",
     "text": [
      "Switched to branch 'master'\n"
     ]
    }
   ],
   "source": [
    "%%bash\n",
    "cd ~/Desktop/itu-minitwit-start\n",
    "\n",
    "git checkout master\n",
    "git merge complete_flag_feature\n",
    "\n",
    "git branch --list\n",
    "git branch --no-merged  # Shows nothing as everything is merged"
   ]
  },
  {
   "cell_type": "code",
   "execution_count": 162,
   "metadata": {
    "slideshow": {
     "slide_type": "subslide"
    }
   },
   "outputs": [],
   "source": [
    "%%bash\n",
    "cd ~/Desktop/itu-minitwit-start\n",
    "git remote -v  # prints nothing here..."
   ]
  },
  {
   "cell_type": "code",
   "execution_count": 179,
   "metadata": {
    "slideshow": {
     "slide_type": "skip"
    }
   },
   "outputs": [
    {
     "name": "stdout",
     "output_type": "stream",
     "text": [
      "Created images/git-log6.png\n"
     ]
    }
   ],
   "source": [
    "%%bash\n",
    "python ./git-graph.py ~/Desktop/itu-minitwit-start --to=images/git-log6.png"
   ]
  },
  {
   "cell_type": "markdown",
   "metadata": {
    "slideshow": {
     "slide_type": "subslide"
    }
   },
   "source": [
    "![](images/git-log6.png)"
   ]
  },
  {
   "cell_type": "markdown",
   "metadata": {
    "slideshow": {
     "slide_type": "subslide"
    }
   },
   "source": [
    "### Your Turn! -  `Task7.md`\n",
    "<img src=\"https://media.giphy.com/media/13GIgrGdslD9oQ/giphy.gif\" width=50%/>\n",
    "\n",
    "#### Starting to collaborate"
   ]
  },
  {
   "cell_type": "code",
   "execution_count": 167,
   "metadata": {
    "slideshow": {
     "slide_type": "subslide"
    }
   },
   "outputs": [],
   "source": [
    "%%bash\n",
    "cd ~/Desktop/\n",
    "cp -r itu-minitwit-start my-minitwit-refactoring"
   ]
  },
  {
   "cell_type": "markdown",
   "metadata": {},
   "source": [
    "Now, in pairs of two, create one repository on Github each. One should be called `itu-minitwit-start` and be created by one user (`<YourUsername>`). The other repository should be called `my-minitwit-refactoring` and be created by **another** user (`<YourOtherUsername>`). \n",
    "\n",
    "Add the two local repositories to their respective remote repositories."
   ]
  },
  {
   "cell_type": "code",
   "execution_count": 168,
   "metadata": {
    "slideshow": {
     "slide_type": "subslide"
    }
   },
   "outputs": [
    {
     "name": "stdout",
     "output_type": "stream",
     "text": [
      "Branch 'master' set up to track remote branch 'master' from 'origin'.\n",
      "Branch 'master' set up to track remote branch 'master' from 'origin'.\n",
      "origin\thttps://github.com/HelgeCPH/itu-minitwit-start.git (fetch)\n",
      "origin\thttps://github.com/HelgeCPH/itu-minitwit-start.git (push)\n"
     ]
    },
    {
     "name": "stderr",
     "output_type": "stream",
     "text": [
      "To https://github.com/HelgeCPH/itu-minitwit-start.git\n",
      " * [new branch]      master -> master\n",
      "Everything up-to-date\n"
     ]
    }
   ],
   "source": [
    "%%bash\n",
    "cd ~/Desktop/itu-minitwit-start\n",
    "\n",
    "git remote add origin https://github.com/<YourUsername>/itu-minitwit-start.git\n",
    "git push -u origin master\n",
    "\n",
    "# Check that there is only one remote branch. Push the others too\n",
    "git push -u origin master\n",
    "\n",
    "git remote -v\n",
    "\n",
    "\n",
    "# A repository for the second session in \"DevOps, Software Evolution and Software Maintenance\" at IT University of Copenhagen\n",
    "# https://github.com/itu-devops/2020-spring"
   ]
  },
  {
   "cell_type": "code",
   "execution_count": 172,
   "metadata": {},
   "outputs": [
    {
     "name": "stdout",
     "output_type": "stream",
     "text": [
      "  complete_flag_feature\n",
      "  control_feature\n",
      "  flag_feature\n",
      "* master\n",
      "  remotes/origin/master\n"
     ]
    }
   ],
   "source": [
    "%%bash\n",
    "cd ~/Desktop/itu-minitwit-start\n",
    "\n",
    "# Check that there is only one remote branch.\n",
    "git branch --list --all"
   ]
  },
  {
   "cell_type": "code",
   "execution_count": 173,
   "metadata": {},
   "outputs": [
    {
     "name": "stdout",
     "output_type": "stream",
     "text": [
      "  origin/master\n"
     ]
    }
   ],
   "source": [
    "%%bash\n",
    "cd ~/Desktop/itu-minitwit-start\n",
    "\n",
    "# Check that there is only one remote branch.\n",
    "git branch --list --remote"
   ]
  },
  {
   "cell_type": "code",
   "execution_count": 176,
   "metadata": {},
   "outputs": [
    {
     "name": "stdout",
     "output_type": "stream",
     "text": [
      "Branch 'master' set up to track remote branch 'master' from 'origin'.\n",
      "origin\thttps://github.com/HelgeCPH/my-minitwit-refactoring.git (fetch)\n",
      "origin\thttps://github.com/HelgeCPH/my-minitwit-refactoring.git (push)\n"
     ]
    },
    {
     "name": "stderr",
     "output_type": "stream",
     "text": [
      "To https://github.com/HelgeCPH/my-minitwit-refactoring.git\n",
      " * [new branch]      master -> master\n"
     ]
    }
   ],
   "source": [
    "%%bash\n",
    "cd ~/Desktop/my-minitwit-refactoring\n",
    "\n",
    "git remote add origin https://github.com/<YourOtherUsername>/my-minitwit-refactoring.git\n",
    "git push -u origin master\n",
    "\n",
    "git remote -v"
   ]
  },
  {
   "cell_type": "code",
   "execution_count": 178,
   "metadata": {},
   "outputs": [
    {
     "name": "stdout",
     "output_type": "stream",
     "text": [
      "  origin/master\n"
     ]
    }
   ],
   "source": [
    "%%bash\n",
    "cd ~/Desktop/my-minitwit-refactoring\n",
    "\n",
    "# Check that there is only one remote branch.\n",
    "git branch --list --remote"
   ]
  },
  {
   "cell_type": "markdown",
   "metadata": {
    "slideshow": {
     "slide_type": "subslide"
    }
   },
   "source": [
    "![](images/git_remotes.png)"
   ]
  },
  {
   "cell_type": "markdown",
   "metadata": {
    "slideshow": {
     "slide_type": "subslide"
    }
   },
   "source": [
    "![](images/git_remotes_full.png)"
   ]
  },
  {
   "cell_type": "markdown",
   "metadata": {
    "slideshow": {
     "slide_type": "slide"
    }
   },
   "source": [
    "### Your Turn! -  `Task8.md`\n",
    "<img src=\"https://media.giphy.com/media/13GIgrGdslD9oQ/giphy.gif\" width=50%/>\n",
    "\n",
    "\n",
    "Now, in pairs of two,work as one user (`<YourUsername>`) on laptop **A** and another user (`<YourOtherUsername>`) on laptop **B**.\n",
    "\n",
    "We will start to create concurrent changes."
   ]
  },
  {
   "cell_type": "code",
   "execution_count": 201,
   "metadata": {
    "slideshow": {
     "slide_type": "subslide"
    }
   },
   "outputs": [],
   "source": [
    "%%bash\n",
    "cd ~/Desktop/itu-minitwit-start\n",
    "\n",
    "echo -e \"#!/usr/bin/env bash\\n\\n$(cat control.sh)\" > control.sh"
   ]
  },
  {
   "cell_type": "code",
   "execution_count": 204,
   "metadata": {
    "slideshow": {
     "slide_type": "subslide"
    }
   },
   "outputs": [
    {
     "name": "stdout",
     "output_type": "stream",
     "text": [
      "[master 6080843] Fixed shebang\n",
      " 1 file changed, 2 insertions(+), 2 deletions(-)\n"
     ]
    },
    {
     "name": "stderr",
     "output_type": "stream",
     "text": [
      "To https://github.com/HelgeCPH/itu-minitwit-start.git\n",
      "   1b91a4a..6080843  master -> master\n"
     ]
    }
   ],
   "source": [
    "%%bash\n",
    "cd ~/Desktop/itu-minitwit-start\n",
    "\n",
    "git add control.sh\n",
    "git commit -m\"Fixed shebang\"\n",
    "git push"
   ]
  },
  {
   "cell_type": "code",
   "execution_count": 203,
   "metadata": {
    "slideshow": {
     "slide_type": "subslide"
    }
   },
   "outputs": [],
   "source": [
    "%%bash\n",
    "cd ~/Desktop/my-minitwit-refactoring\n",
    "\n",
    "echo -e \"#!/bin/bash\\n\\n$(cat control.sh)\" > control.sh"
   ]
  },
  {
   "cell_type": "code",
   "execution_count": 205,
   "metadata": {
    "slideshow": {
     "slide_type": "subslide"
    }
   },
   "outputs": [
    {
     "name": "stdout",
     "output_type": "stream",
     "text": [
      "[master 1000f98] Fixed interpreter choice\n",
      " 1 file changed, 2 insertions(+), 2 deletions(-)\n"
     ]
    },
    {
     "name": "stderr",
     "output_type": "stream",
     "text": [
      "To https://github.com/HelgeCPH/my-minitwit-refactoring.git\n",
      "   1b91a4a..1000f98  master -> master\n"
     ]
    }
   ],
   "source": [
    "%%bash\n",
    "cd ~/Desktop/my-minitwit-refactoring\n",
    "\n",
    "git add control.sh\n",
    "git commit -m\"Fixed interpreter choice\"\n",
    "git push"
   ]
  },
  {
   "cell_type": "markdown",
   "metadata": {
    "slideshow": {
     "slide_type": "subslide"
    }
   },
   "source": [
    "#### How to incorporate the changes from one another now?"
   ]
  },
  {
   "cell_type": "code",
   "execution_count": 206,
   "metadata": {
    "slideshow": {
     "slide_type": "subslide"
    }
   },
   "outputs": [
    {
     "name": "stdout",
     "output_type": "stream",
     "text": [
      "myfriend\thttps://github.com/HelgeCPH/my-minitwit-refactoring.git (fetch)\n",
      "myfriend\thttps://github.com/HelgeCPH/my-minitwit-refactoring.git (push)\n",
      "origin\thttps://github.com/HelgeCPH/itu-minitwit-start.git (fetch)\n",
      "origin\thttps://github.com/HelgeCPH/itu-minitwit-start.git (push)\n"
     ]
    }
   ],
   "source": [
    "%%bash\n",
    "cd ~/Desktop/itu-minitwit-start\n",
    "\n",
    "#git remote add myfriend https://github.com/<YourOtherUsername>/my-minitwit-refactoring.git\n",
    "git remote add myfriend https://github.com/HelgeCPH/my-minitwit-refactoring.git\n",
    "\n",
    "git remote -v"
   ]
  },
  {
   "cell_type": "code",
   "execution_count": 207,
   "metadata": {
    "slideshow": {
     "slide_type": "subslide"
    }
   },
   "outputs": [
    {
     "name": "stdout",
     "output_type": "stream",
     "text": [
      "Auto-merging control.sh\n",
      "CONFLICT (content): Merge conflict in control.sh\n",
      "Automatic merge failed; fix conflicts and then commit the result.\n"
     ]
    },
    {
     "name": "stderr",
     "output_type": "stream",
     "text": [
      "From https://github.com/HelgeCPH/my-minitwit-refactoring\n",
      " * branch            master     -> FETCH_HEAD\n",
      " * [new branch]      master     -> myfriend/master\n"
     ]
    },
    {
     "ename": "CalledProcessError",
     "evalue": "Command 'b'cd ~/Desktop/itu-minitwit-start\\n\\ngit pull myfriend master\\n'' returned non-zero exit status 1.",
     "output_type": "error",
     "traceback": [
      "\u001b[0;31m---------------------------------------------------------------------------\u001b[0m",
      "\u001b[0;31mCalledProcessError\u001b[0m                        Traceback (most recent call last)",
      "\u001b[0;32m<ipython-input-207-33188e32996e>\u001b[0m in \u001b[0;36m<module>\u001b[0;34m\u001b[0m\n\u001b[0;32m----> 1\u001b[0;31m \u001b[0mget_ipython\u001b[0m\u001b[0;34m(\u001b[0m\u001b[0;34m)\u001b[0m\u001b[0;34m.\u001b[0m\u001b[0mrun_cell_magic\u001b[0m\u001b[0;34m(\u001b[0m\u001b[0;34m'bash'\u001b[0m\u001b[0;34m,\u001b[0m \u001b[0;34m''\u001b[0m\u001b[0;34m,\u001b[0m \u001b[0;34m'cd ~/Desktop/itu-minitwit-start\\n\\ngit pull myfriend master\\n'\u001b[0m\u001b[0;34m)\u001b[0m\u001b[0;34m\u001b[0m\u001b[0;34m\u001b[0m\u001b[0m\n\u001b[0m",
      "\u001b[0;32m/usr/local/anaconda3/lib/python3.7/site-packages/IPython/core/interactiveshell.py\u001b[0m in \u001b[0;36mrun_cell_magic\u001b[0;34m(self, magic_name, line, cell)\u001b[0m\n\u001b[1;32m   2350\u001b[0m             \u001b[0;32mwith\u001b[0m \u001b[0mself\u001b[0m\u001b[0;34m.\u001b[0m\u001b[0mbuiltin_trap\u001b[0m\u001b[0;34m:\u001b[0m\u001b[0;34m\u001b[0m\u001b[0;34m\u001b[0m\u001b[0m\n\u001b[1;32m   2351\u001b[0m                 \u001b[0margs\u001b[0m \u001b[0;34m=\u001b[0m \u001b[0;34m(\u001b[0m\u001b[0mmagic_arg_s\u001b[0m\u001b[0;34m,\u001b[0m \u001b[0mcell\u001b[0m\u001b[0;34m)\u001b[0m\u001b[0;34m\u001b[0m\u001b[0;34m\u001b[0m\u001b[0m\n\u001b[0;32m-> 2352\u001b[0;31m                 \u001b[0mresult\u001b[0m \u001b[0;34m=\u001b[0m \u001b[0mfn\u001b[0m\u001b[0;34m(\u001b[0m\u001b[0;34m*\u001b[0m\u001b[0margs\u001b[0m\u001b[0;34m,\u001b[0m \u001b[0;34m**\u001b[0m\u001b[0mkwargs\u001b[0m\u001b[0;34m)\u001b[0m\u001b[0;34m\u001b[0m\u001b[0;34m\u001b[0m\u001b[0m\n\u001b[0m\u001b[1;32m   2353\u001b[0m             \u001b[0;32mreturn\u001b[0m \u001b[0mresult\u001b[0m\u001b[0;34m\u001b[0m\u001b[0;34m\u001b[0m\u001b[0m\n\u001b[1;32m   2354\u001b[0m \u001b[0;34m\u001b[0m\u001b[0m\n",
      "\u001b[0;32m/usr/local/anaconda3/lib/python3.7/site-packages/IPython/core/magics/script.py\u001b[0m in \u001b[0;36mnamed_script_magic\u001b[0;34m(line, cell)\u001b[0m\n\u001b[1;32m    140\u001b[0m             \u001b[0;32melse\u001b[0m\u001b[0;34m:\u001b[0m\u001b[0;34m\u001b[0m\u001b[0;34m\u001b[0m\u001b[0m\n\u001b[1;32m    141\u001b[0m                 \u001b[0mline\u001b[0m \u001b[0;34m=\u001b[0m \u001b[0mscript\u001b[0m\u001b[0;34m\u001b[0m\u001b[0;34m\u001b[0m\u001b[0m\n\u001b[0;32m--> 142\u001b[0;31m             \u001b[0;32mreturn\u001b[0m \u001b[0mself\u001b[0m\u001b[0;34m.\u001b[0m\u001b[0mshebang\u001b[0m\u001b[0;34m(\u001b[0m\u001b[0mline\u001b[0m\u001b[0;34m,\u001b[0m \u001b[0mcell\u001b[0m\u001b[0;34m)\u001b[0m\u001b[0;34m\u001b[0m\u001b[0;34m\u001b[0m\u001b[0m\n\u001b[0m\u001b[1;32m    143\u001b[0m \u001b[0;34m\u001b[0m\u001b[0m\n\u001b[1;32m    144\u001b[0m         \u001b[0;31m# write a basic docstring:\u001b[0m\u001b[0;34m\u001b[0m\u001b[0;34m\u001b[0m\u001b[0;34m\u001b[0m\u001b[0m\n",
      "\u001b[0;32m</usr/local/anaconda3/lib/python3.7/site-packages/decorator.py:decorator-gen-110>\u001b[0m in \u001b[0;36mshebang\u001b[0;34m(self, line, cell)\u001b[0m\n",
      "\u001b[0;32m/usr/local/anaconda3/lib/python3.7/site-packages/IPython/core/magic.py\u001b[0m in \u001b[0;36m<lambda>\u001b[0;34m(f, *a, **k)\u001b[0m\n\u001b[1;32m    185\u001b[0m     \u001b[0;31m# but it's overkill for just that one bit of state.\u001b[0m\u001b[0;34m\u001b[0m\u001b[0;34m\u001b[0m\u001b[0;34m\u001b[0m\u001b[0m\n\u001b[1;32m    186\u001b[0m     \u001b[0;32mdef\u001b[0m \u001b[0mmagic_deco\u001b[0m\u001b[0;34m(\u001b[0m\u001b[0marg\u001b[0m\u001b[0;34m)\u001b[0m\u001b[0;34m:\u001b[0m\u001b[0;34m\u001b[0m\u001b[0;34m\u001b[0m\u001b[0m\n\u001b[0;32m--> 187\u001b[0;31m         \u001b[0mcall\u001b[0m \u001b[0;34m=\u001b[0m \u001b[0;32mlambda\u001b[0m \u001b[0mf\u001b[0m\u001b[0;34m,\u001b[0m \u001b[0;34m*\u001b[0m\u001b[0ma\u001b[0m\u001b[0;34m,\u001b[0m \u001b[0;34m**\u001b[0m\u001b[0mk\u001b[0m\u001b[0;34m:\u001b[0m \u001b[0mf\u001b[0m\u001b[0;34m(\u001b[0m\u001b[0;34m*\u001b[0m\u001b[0ma\u001b[0m\u001b[0;34m,\u001b[0m \u001b[0;34m**\u001b[0m\u001b[0mk\u001b[0m\u001b[0;34m)\u001b[0m\u001b[0;34m\u001b[0m\u001b[0;34m\u001b[0m\u001b[0m\n\u001b[0m\u001b[1;32m    188\u001b[0m \u001b[0;34m\u001b[0m\u001b[0m\n\u001b[1;32m    189\u001b[0m         \u001b[0;32mif\u001b[0m \u001b[0mcallable\u001b[0m\u001b[0;34m(\u001b[0m\u001b[0marg\u001b[0m\u001b[0;34m)\u001b[0m\u001b[0;34m:\u001b[0m\u001b[0;34m\u001b[0m\u001b[0;34m\u001b[0m\u001b[0m\n",
      "\u001b[0;32m/usr/local/anaconda3/lib/python3.7/site-packages/IPython/core/magics/script.py\u001b[0m in \u001b[0;36mshebang\u001b[0;34m(self, line, cell)\u001b[0m\n\u001b[1;32m    243\u001b[0m             \u001b[0msys\u001b[0m\u001b[0;34m.\u001b[0m\u001b[0mstderr\u001b[0m\u001b[0;34m.\u001b[0m\u001b[0mflush\u001b[0m\u001b[0;34m(\u001b[0m\u001b[0;34m)\u001b[0m\u001b[0;34m\u001b[0m\u001b[0;34m\u001b[0m\u001b[0m\n\u001b[1;32m    244\u001b[0m         \u001b[0;32mif\u001b[0m \u001b[0margs\u001b[0m\u001b[0;34m.\u001b[0m\u001b[0mraise_error\u001b[0m \u001b[0;32mand\u001b[0m \u001b[0mp\u001b[0m\u001b[0;34m.\u001b[0m\u001b[0mreturncode\u001b[0m\u001b[0;34m!=\u001b[0m\u001b[0;36m0\u001b[0m\u001b[0;34m:\u001b[0m\u001b[0;34m\u001b[0m\u001b[0;34m\u001b[0m\u001b[0m\n\u001b[0;32m--> 245\u001b[0;31m             \u001b[0;32mraise\u001b[0m \u001b[0mCalledProcessError\u001b[0m\u001b[0;34m(\u001b[0m\u001b[0mp\u001b[0m\u001b[0;34m.\u001b[0m\u001b[0mreturncode\u001b[0m\u001b[0;34m,\u001b[0m \u001b[0mcell\u001b[0m\u001b[0;34m,\u001b[0m \u001b[0moutput\u001b[0m\u001b[0;34m=\u001b[0m\u001b[0mout\u001b[0m\u001b[0;34m,\u001b[0m \u001b[0mstderr\u001b[0m\u001b[0;34m=\u001b[0m\u001b[0merr\u001b[0m\u001b[0;34m)\u001b[0m\u001b[0;34m\u001b[0m\u001b[0;34m\u001b[0m\u001b[0m\n\u001b[0m\u001b[1;32m    246\u001b[0m \u001b[0;34m\u001b[0m\u001b[0m\n\u001b[1;32m    247\u001b[0m     \u001b[0;32mdef\u001b[0m \u001b[0m_run_script\u001b[0m\u001b[0;34m(\u001b[0m\u001b[0mself\u001b[0m\u001b[0;34m,\u001b[0m \u001b[0mp\u001b[0m\u001b[0;34m,\u001b[0m \u001b[0mcell\u001b[0m\u001b[0;34m,\u001b[0m \u001b[0mto_close\u001b[0m\u001b[0;34m)\u001b[0m\u001b[0;34m:\u001b[0m\u001b[0;34m\u001b[0m\u001b[0;34m\u001b[0m\u001b[0m\n",
      "\u001b[0;31mCalledProcessError\u001b[0m: Command 'b'cd ~/Desktop/itu-minitwit-start\\n\\ngit pull myfriend master\\n'' returned non-zero exit status 1."
     ]
    }
   ],
   "source": [
    "%%bash\n",
    "cd ~/Desktop/itu-minitwit-start\n",
    "\n",
    "git pull myfriend master"
   ]
  },
  {
   "cell_type": "code",
   "execution_count": 208,
   "metadata": {
    "slideshow": {
     "slide_type": "subslide"
    }
   },
   "outputs": [
    {
     "name": "stdout",
     "output_type": "stream",
     "text": [
      "<<<<<<< HEAD\n",
      "#!/usr/bin/env bash\n",
      "=======\n",
      "#!/bin/bash\n",
      ">>>>>>> 1000f98e598be5ea1accb396a13ed2ef7b94e790\n",
      "\n",
      "if [ $1 = \"init\" ]; then\n",
      "\n",
      "    if [ -f \"/tmp/minitwit.db\" ]; then \n",
      "        echo \"Database already exists.\"\n",
      "        exit 1\n",
      "    fi\n",
      "    echo \"Putting a database to /tmp/minitwit.db...\"\n",
      "    python -c\"from minitwit import init_db;init_db()\"\n",
      "elif [ $1 = \"start\" ]; then\n",
      "    echo \"Starting minitwit...\"\n",
      "    nohup python minitwit.py > /tmp/out.log 2>&1 &\n",
      "    echo $! > /tmp/minitwit.pid\n",
      "elif [ $1 = \"stop\" ]; then\n",
      "    echo \"Stopping minitwit...\"\n",
      "    MINITWIT_PID=$(cat /tmp/minitwit.pid)\n",
      "    kill -TERM $MINITWIT_PID\n",
      "    rm /tmp/minitwit.pid\n",
      "elif [ $1 = \"inspectdb\" ]; then\n",
      "    ./flag_tool -i | less\n",
      "elif [ $1 = \"flag\" ]; then\n",
      "    ./flag_tool \"$@\"\n",
      "else\n",
      "  echo \"I do not know this command...\"\n",
      "fi\n"
     ]
    }
   ],
   "source": [
    "%%bash\n",
    "cd ~/Desktop/itu-minitwit-start\n",
    "\n",
    "cat control.sh"
   ]
  },
  {
   "cell_type": "code",
   "execution_count": 211,
   "metadata": {
    "slideshow": {
     "slide_type": "subslide"
    }
   },
   "outputs": [
    {
     "name": "stdout",
     "output_type": "stream",
     "text": [
      "On branch master\n",
      "Your branch is up to date with 'origin/master'.\n",
      "\n",
      "You have unmerged paths.\n",
      "  (fix conflicts and run \"git commit\")\n",
      "  (use \"git merge --abort\" to abort the merge)\n",
      "\n",
      "Unmerged paths:\n",
      "  (use \"git add <file>...\" to mark resolution)\n",
      "\n",
      "\tboth modified:   control.sh\n",
      "\n",
      "Untracked files:\n",
      "  (use \"git add <file>...\" to include in what will be committed)\n",
      "\n",
      "\tschema.sql\n",
      "\n",
      "no changes added to commit (use \"git add\" and/or \"git commit -a\")\n"
     ]
    }
   ],
   "source": [
    "%%bash\n",
    "cd ~/Desktop/itu-minitwit-start\n",
    "git status"
   ]
  },
  {
   "cell_type": "code",
   "execution_count": 212,
   "metadata": {
    "slideshow": {
     "slide_type": "subslide"
    }
   },
   "outputs": [
    {
     "name": "stdout",
     "output_type": "stream",
     "text": [
      "On branch master\n",
      "Your branch is up to date with 'origin/master'.\n",
      "\n",
      "All conflicts fixed but you are still merging.\n",
      "  (use \"git commit\" to conclude merge)\n",
      "\n",
      "Untracked files:\n",
      "  (use \"git add <file>...\" to include in what will be committed)\n",
      "\n",
      "\tcontrol.sh.orig\n",
      "\tcontrol_BACKUP_97559.sh\n",
      "\tcontrol_BASE_97559.sh\n",
      "\tcontrol_LOCAL_97559.sh\n",
      "\tcontrol_REMOTE_97559.sh\n",
      "\tschema.sql\n",
      "\n"
     ]
    }
   ],
   "source": [
    "%%bash\n",
    "cd ~/Desktop/itu-minitwit-start\n",
    "git status"
   ]
  },
  {
   "cell_type": "code",
   "execution_count": 215,
   "metadata": {
    "slideshow": {
     "slide_type": "subslide"
    }
   },
   "outputs": [
    {
     "name": "stdout",
     "output_type": "stream",
     "text": [
      "On branch master\n",
      "Your branch is up to date with 'origin/master'.\n",
      "\n",
      "Untracked files:\n",
      "\tcontrol.sh.orig\n",
      "\tcontrol_BACKUP_97559.sh\n",
      "\tcontrol_BASE_97559.sh\n",
      "\tcontrol_LOCAL_97559.sh\n",
      "\tcontrol_REMOTE_97559.sh\n",
      "\tgit-log.png\n",
      "\tschema.sql\n",
      "\n",
      "nothing added to commit but untracked files present\n"
     ]
    },
    {
     "name": "stderr",
     "output_type": "stream",
     "text": [
      "Everything up-to-date\n"
     ]
    }
   ],
   "source": [
    "%%bash\n",
    "cd ~/Desktop/itu-minitwit-start\n",
    "git add control.sh\n",
    "git commit -m\"We decided to choose my shebang\"\n",
    "git push"
   ]
  },
  {
   "cell_type": "code",
   "execution_count": null,
   "metadata": {
    "slideshow": {
     "slide_type": "skip"
    }
   },
   "outputs": [],
   "source": [
    "git mergetool --tool=tkdiff"
   ]
  },
  {
   "cell_type": "markdown",
   "metadata": {
    "slideshow": {
     "slide_type": "subslide"
    }
   },
   "source": [
    "![](images/git_remotes_full2.png)"
   ]
  },
  {
   "cell_type": "markdown",
   "metadata": {
    "slideshow": {
     "slide_type": "subslide"
    }
   },
   "source": [
    "<img src=\"https://imgs.xkcd.com/comics/git.png\" width=\"40%\">\n",
    "\n",
    "------------------"
   ]
  },
  {
   "cell_type": "markdown",
   "metadata": {
    "slideshow": {
     "slide_type": "subslide"
    }
   },
   "source": [
    "### Rebasing?\n",
    "\n",
    "\n",
    "<img src=\"https://git-scm.com/book/en/v2/images/basic-rebase-1.png\" width=\"80%\">\n",
    "\n",
    "##### Merging\n",
    "\n",
    "![](https://git-scm.com/book/en/v2/images/basic-rebase-2.png)\n",
    "\n",
    "##### Rebasing\n",
    "\n",
    "  > With the `rebase` command, you can take all the changes that were committed on one branch and replay them on a different branch.\n",
    "  >\n",
    "  >\n",
    "\n",
    "\n",
    "```bash\n",
    "$ git checkout experiment\n",
    "$ git rebase master\n",
    "First, rewinding head to replay your work on top of it...\n",
    "Applying: added staged command\n",
    "```\n",
    "\n",
    "![](https://git-scm.com/book/en/v2/images/basic-rebase-3.png)\n",
    "\n",
    "\n",
    "```bash\n",
    "$ git checkout master\n",
    "$ git merge experiment\n",
    "```\n",
    "\n",
    "![](https://git-scm.com/book/en/v2/images/basic-rebase-4.png)\n",
    "\n",
    "\n",
    "See https://git-scm.com/book/en/v2/Git-Branching-Rebasing for a more elaborate example."
   ]
  },
  {
   "cell_type": "markdown",
   "metadata": {
    "slideshow": {
     "slide_type": "subslide"
    }
   },
   "source": [
    "#### When to \"`rebase`\" and when not to?\n",
    "\n",
    "  > **Do not rebase commits that exist outside your repository and that people may have based work on.**\n",
    "  >\n",
    "  > When you rebase stuff, you’re abandoning existing commits and creating new ones that are similar but different. If you push commits somewhere and others pull them down and base work on them, and then you rewrite those commits with git rebase and push them up again, your collaborators will have to re-merge their work and things will get messy when you try to pull their work back into yours.\n",
    "  >\n",
    "  > https://git-scm.com/book/en/v2/Git-Branching-Rebasing#rbdiag_e\n",
    "  "
   ]
  },
  {
   "cell_type": "markdown",
   "metadata": {
    "slideshow": {
     "slide_type": "subslide"
    }
   },
   "source": [
    "#### Why would I like to \"`rebase`\" then at all?\n",
    "\n",
    " \n",
    "  > One point of view on this is that your **repository’s commit history is a record of what actually happened**. It’s a historical document, valuable in its own right, and shouldn’t be tampered with. From this angle, changing the commit history is almost blasphemous; you’re lying about what actually transpired. So what if there was a messy series of merge commits? That’s how it happened, and the repository should preserve that for posterity.\n",
    "  >\n",
    "  > The opposing point of view is that **the commit history is the story of how your project was made**. You wouldn’t publish the first draft of a book, and the manual for how to maintain your software deserves careful editing. This is the camp that uses tools like rebase and filter-branch to tell the story in the way that’s best for future readers.\n",
    "  >\n",
    "  > https://git-scm.com/book/en/v2/Git-Branching-Rebasing#rbdiag_e\n"
   ]
  },
  {
   "cell_type": "markdown",
   "metadata": {
    "slideshow": {
     "slide_type": "slide"
    }
   },
   "source": [
    "# Branching models\n",
    "\n",
    "\n",
    "\n",
    "  > “We are a team of four senior developers (by which I mean we’re all over 40 with 20+ years each of development experience) and not one of us has had a positive experience in the past with branching the mainline...The branch is easy - it’s the merge at the end that’s painful”.\n",
    "  >\n",
    "  >  [Phillips et al. _\"Branching and Merging: An Investigation into Current Version Control Practices\"_](http://citeseerx.ist.psu.edu/viewdoc/download?doi=10.1.1.278.6065&rep=rep1&type=pdf)\n"
   ]
  },
  {
   "cell_type": "markdown",
   "metadata": {
    "slideshow": {
     "slide_type": "subslide"
    }
   },
   "source": [
    "## Long-Running Branches/Branch by Release\n",
    "\n",
    "Many Git developers have only code that is entirely stable in the `master` branch —possibly only code that has been or will be released. Another parallel branch named `develop` or `next` contains work to test for stability —it is not necessarily always stable, but whenever it gets to a stable state, it can be merged into `master`. It is used to pull in topic branches when they are ready.\n",
    "\n",
    "In reality, we are talking about pointers moving up the line of commits. The stable branches are farther down the line in your commit history, and the bleeding-edge branches are farther up the history.\n",
    "\n",
    "\n",
    "![](http://git-scm.com/figures/18333fig0318-tn.png)\n",
    "\n",
    "That is, we can think about those branches as work silos, where sets of commits graduate to a more stable silo when they are fully tested.\n",
    "\n",
    "![](http://git-scm.com/figures/18333fig0319-tn.png)\n",
    "\n",
    "\n",
    "Figure 1. of [Walrad et al. _\"The Importance of Branching Models in SCM\"_](\n",
    "https://www.researchgate.net/profile/Chuck_Walrad/publication/2955749_The_importance_of_branching_models_in_SCM/links/0c960536418f2f0da4000000/The-importance-of-branching-models-in-SCM.pdf)"
   ]
  },
  {
   "cell_type": "markdown",
   "metadata": {
    "slideshow": {
     "slide_type": "subslide"
    }
   },
   "source": [
    "## Topic Branches\n",
    "\n",
    "A topic branch is a short-lived branch that you create and use for a single particular feature or related work. You saw this in the last section with the `iss53` and `hotfix` branches.\n",
    "\n",
    "![](http://git-scm.com/figures/18333fig0320-tn.png)\n",
    "\n",
    "\n",
    "After merging `iss91v2` and `dumbidea` and throwing away the original `iss91` branch (losing commits C5 and C6) the repository's history looks as in the following:\n",
    "\n",
    "![](http://git-scm.com/figures/18333fig0321-tn.png)"
   ]
  },
  {
   "cell_type": "markdown",
   "metadata": {
    "slideshow": {
     "slide_type": "subslide"
    }
   },
   "source": [
    "## Git-Flow\n",
    "\n",
    "Read on it here: http://nvie.com/posts/a-successful-git-branching-model/\n",
    "\n",
    "<img src=\"http://nvie.com/img/git-model@2x.png\" width=\"90%\">"
   ]
  },
  {
   "cell_type": "markdown",
   "metadata": {
    "slideshow": {
     "slide_type": "subslide"
    }
   },
   "source": [
    "## No Branches/Trunk-based Development/Branch by Purpose\n",
    "\n",
    "  > Almost all development occurs at the “head” of the repository​, not on branches. This helps identify integration problems early and minimizes the amount of merging work needed. It also makes it much easier and faster to push out security fixes.\n",
    "  >\n",
    "  > Henderson [_\"Software Engineering at Google\"_](https://arxiv.org/pdf/1702.01715.pdf)\n",
    "\n",
    "Figure 3. of [Walrad et al. _\"The Importance of Branching Models in SCM\"_](\n",
    "https://www.researchgate.net/profile/Chuck_Walrad/publication/2955749_The_importance_of_branching_models_in_SCM/links/0c960536418f2f0da4000000/The-importance-of-branching-models-in-SCM.pdf)\n",
    "\n",
    "#### Release Branches\n",
    "\n",
    "![](https://trunkbaseddevelopment.com/trunk1a.png)\n",
    "\n",
    "#### No Branches\n",
    "\n",
    "![](https://trunkbaseddevelopment.com/trunk1b.png)\n",
    "\n",
    "  > A release typically starts in a fresh workspace, by syncing to the change number of the latest “green” build (i.e. the last change for which all the automatic tests passed), and making a release branch. The release engineer can select additional changes to be “cherry-picked”, i.e. merged from the main branch onto the release branch. Then the software will be rebuilt from scratch and the tests are run. If any tests fail, additional changes are made to fix the failures and those additional changes are cherry-picked onto the release branch, after which the software will be rebuilt and the tests rerun. When the tests all pass, the built executable(s)and data file(s) are packaged up. All of these steps are automated so that the release engineer need only run some simple commands, or even just select some entries on a menu-driven UI, and choose which changes (if any) to cherry pick.\n",
    "  >\n",
    "  > Henderson [_\"Software Engineering at Google\"_](https://arxiv.org/pdf/1702.01715.pdf)\n",
    "\n",
    " "
   ]
  },
  {
   "cell_type": "markdown",
   "metadata": {
    "slideshow": {
     "slide_type": "subslide"
    }
   },
   "source": [
    "## Platform Branches\n",
    "\n",
    "![](http://cdn.mos.cms.futurecdn.net/4c32e6c4a3a45756ab06b9f54b904f69-650-80.jpg)\n",
    "\n",
    "http://www.creativebloq.com/web-design/choose-right-git-branching-strategy-121518344\n",
    "  \n",
    "\n",
    "<!--\n",
    "  * **Github-Flow**: http://scottchacon.com/2011/08/31/github-flow.html\n",
    "* New Feature Version Branches: https://ustwo.com/blog/branching-strategies-with-git/\n",
    "  ![](https://usweb-cdn.ustwo.com/ustwo-production/uploads/2012/03/ustwo-branching-branching1.jpg)\n",
    "  * http://www.kumaranuj.com/2015/11/gi-branching-strategies.html\n",
    "\n",
    "-->\n",
    "\n"
   ]
  },
  {
   "cell_type": "markdown",
   "metadata": {
    "slideshow": {
     "slide_type": "subslide"
    }
   },
   "source": [
    "### Your Turn!\n",
    "<img src=\"https://media.giphy.com/media/13GIgrGdslD9oQ/giphy.gif\" width=50%/>\n",
    "\n",
    "  - Which branching model did we apply in our scenario above when working on _ITU-MiniTwit_?\n",
    "  - Which branching model does the Apache Airflow project seem to apply?\n",
    "  ```bash\n",
    "  git clone https://github.com/apache/airflow.git ~/Desktop/airflow\n",
    "  git branch --list --all\n",
    "  git branch --list --remote\n",
    "```"
   ]
  },
  {
   "cell_type": "markdown",
   "metadata": {
    "slideshow": {
     "slide_type": "slide"
    }
   },
   "source": [
    "# Repository models\n",
    "\n",
    "One question that you likely have when developing is: \"How do I organize my artifacts?\"\n",
    "\n",
    "In the \"wild\" you will find the following:\n",
    "  - Mono repositories\n",
    "  - Distributed repositories\n",
    "  - Repositories with submodules"
   ]
  },
  {
   "cell_type": "markdown",
   "metadata": {
    "slideshow": {
     "slide_type": "subslide"
    }
   },
   "source": [
    "### Mono repositories\n",
    "\n",
    "\n",
    "\n",
    "\n",
    "\n",
    "  > Most of Google’s code is stored in a single unified source-code repository, and is accessible to all software engineers at Google.\n",
    "  > \n",
    "  > (Customer data is tightly secured, it's only source code that's accessible.) There are some notable exceptions to the use of this single widely accessible repository, particularly the two large open-source projects Chrome and Android [...]\n",
    "  > \n",
    "  > As of January 2015, this 86 terabyte repository contained a billion files, including over 9 million source code files containing a total of 2 billion lines of source code, with a history of 35million commits and a change rate of 40 thousand commits per workday [...]\n",
    "  > \n",
    "  > Write access to the repository is controlled: only the listed owners of each subtree of the repository can approve changes to that subtree.\n",
    "  > \n",
    "  > Section _\"2.1. The Source Repository\"_ in Henderson [_\"Software Engineering at Google\"_](https://arxiv.org/pdf/1702.01715.pdf)\n",
    "  "
   ]
  },
  {
   "cell_type": "markdown",
   "metadata": {
    "slideshow": {
     "slide_type": "subslide"
    }
   },
   "source": [
    "### Distributed repositories\n",
    "\n",
    "\n",
    "Most often we build software as \"system of systems\" (see, e.g., https://resources.sei.cmu.edu/asset_files/TechnicalNote/2005_004_001_14471.pdf). That is, we aggregate software of different origin into a another system.\n",
    "\n",
    "All the other systems usually are unaware of each other and under separate version control.\n",
    "\n",
    "For example, more than 116,000  PyPI (https://arxiv.org/abs/1907.11073) are usually located each in their own repository. Similarly, Ruby Gems (https://link.springer.com/chapter/10.1007/978-3-642-21544-5_5, https://rubygems.org/) and any other software library or software package are developed in distributed repositories.\n",
    "\n"
   ]
  },
  {
   "cell_type": "markdown",
   "metadata": {
    "slideshow": {
     "slide_type": "subslide"
    }
   },
   "source": [
    "### Repositories with submodules\n",
    "\n",
    "\n",
    "In between the two extremes, i.e., mono-repositories and distributed repositories, there are repositories with submodules (at least in the realm of Git).\n",
    "\n",
    "Look for example at the [FermiKit project](https://github.com/lh3/fermikit).\n",
    "\n",
    "![](images/fermikit.png)\n"
   ]
  },
  {
   "cell_type": "markdown",
   "metadata": {
    "slideshow": {
     "slide_type": "subslide"
    }
   },
   "source": [
    "### Your Turn! -  `Task10.md`\n",
    "<img src=\"https://media.giphy.com/media/13GIgrGdslD9oQ/giphy.gif\" width=50%/>\n",
    "\n",
    "What happens when you first run?\n",
    "\n",
    "```bash\n",
    "git clone https://github.com/lh3/fermikit.git ~/Desktop/fermikit\n",
    "ls -ltrh ~/Desktop/fermikit/bfc/\n",
    "```\n",
    "\n",
    "  - Which files are listed?\n",
    "  - What is listed in the [Github UI under the `bfc`](https://github.com/lh3/fermikit). directory?\n",
    "\n",
    "\n",
    "Now execute the following commands:\n",
    "\n",
    "```bash\n",
    "git submodule init\n",
    "git submodule update\n",
    "ls -ltrh ~/Desktop/fermikit/bfc/\n",
    "```\n",
    "\n",
    " - Which files are listed?\n",
    "\n",
    "\n",
    "\n",
    "Discuss with your group members when you might want to use Git submodules in your repository."
   ]
  },
  {
   "cell_type": "markdown",
   "metadata": {
    "slideshow": {
     "slide_type": "subslide"
    }
   },
   "source": [
    "<!--\n",
    "http://tinyheero.github.io/2015/08/12/git-submodules.html\n",
    "-->\n",
    "\n",
    "Another example is the [Hugo](https://gohugo.io/) theme [Hyde](https://github.com/htr3n/hyde-hyde), see https://github.com/htr3n/hyde-hyde#installation.\n",
    "\n",
    "More on Git submodules: https://git-scm.com/book/en/v2/Git-Tools-Submodules"
   ]
  },
  {
   "cell_type": "markdown",
   "metadata": {
    "slideshow": {
     "slide_type": "slide"
    }
   },
   "source": [
    "# Distributed development workflows\n",
    "\n",
    "  > In Git [...] every developer is potentially both a node and a hub; that is, every developer can both contribute code to other repositories and maintain a public repository on which others can base their work and which they can contribute to. This presents a vast range of workflow possibilities for your project and/or your team\n",
    "  >\n",
    "  > https://git-scm.com/book/en/v2/Distributed-Git-Distributed-Workflows"
   ]
  },
  {
   "cell_type": "markdown",
   "metadata": {
    "slideshow": {
     "slide_type": "subslide"
    }
   },
   "source": [
    "## Centralized Workflow\n",
    "\n",
    "Likely what many of you are using when collaborating on a repository.\n",
    "\n",
    "![](https://git-scm.com/book/en/v2/images/centralized_workflow.png)"
   ]
  },
  {
   "cell_type": "markdown",
   "metadata": {
    "slideshow": {
     "slide_type": "subslide"
    }
   },
   "source": [
    "## Integration-Manager Workflow\n",
    "\n",
    "Likely what many of you used when contributing to other peoples work via Github, Gitlab, Bitbucket, etc.\n",
    "\n",
    "![](https://git-scm.com/book/en/v2/images/integration-manager.png)\n",
    "\n",
    "\n",
    "\n",
    "\n",
    "  > The project maintainer pushes to their public repository.\n",
    "  > \n",
    "  > A contributor clones that repository and makes changes.\n",
    "  > \n",
    "  > The contributor pushes to their own public copy.\n",
    "  > \n",
    "  > The contributor sends the maintainer an email asking them to pull changes.\n",
    "  > \n",
    "  > The maintainer adds the contributor’s repository as a remote and merges locally.\n",
    "  > \n",
    "  > The maintainer pushes merged changes to the main repository.\n",
    "\n"
   ]
  },
  {
   "cell_type": "markdown",
   "metadata": {
    "slideshow": {
     "slide_type": "subslide"
    }
   },
   "source": [
    "## Dictator and Lieutenants Workflow\n",
    "\n",
    "What you likely heard of big projects using, such as the Linux kernel:\n",
    "\n",
    "![](https://git-scm.com/book/en/v2/images/benevolent-dictator.png)\n",
    "\n",
    "The benevolent dictator workflow:\n",
    "\n",
    "  > Regular developers work on their topic branch and rebase their work on top of master. The master branch is that of the reference repository to which the dictator pushes.\n",
    "  > \n",
    "  > Lieutenants merge the developers' topic branches into their master branch.\n",
    "  > \n",
    "  > The dictator merges the lieutenants' master branches into the dictator’s master branch.\n",
    "  > \n",
    "  > Finally, the dictator pushes that master branch to the reference repository so the other developers can rebase on it.\n",
    "\n"
   ]
  },
  {
   "cell_type": "markdown",
   "metadata": {
    "slideshow": {
     "slide_type": "slide"
    }
   },
   "source": [
    "## Contributing to a Project"
   ]
  },
  {
   "cell_type": "markdown",
   "metadata": {
    "slideshow": {
     "slide_type": "subslide"
    }
   },
   "source": [
    "### Commit Guidelines\n",
    "\n",
    "  - https://github.com/git/git/blob/master/Documentation/SubmittingPatches\n",
    "  - https://tbaggery.com/2008/04/19/a-note-about-git-commit-messages.html\n",
    "  - https://chris.beams.io/posts/git-commit/\n",
    "  \n",
    "  "
   ]
  },
  {
   "cell_type": "markdown",
   "metadata": {
    "slideshow": {
     "slide_type": "subslide"
    }
   },
   "source": [
    "###  Collaboration\n",
    "Likely, you will work in your project as [\"private managed team\"](https://git-scm.com/book/en/v2/Distributed-Git-Contributing-to-a-Project)\n",
    "  \n",
    "![](https://git-scm.com/book/en/v2/images/managed-team-flow.png)\n",
    "\n",
    "\n",
    "Perhaps, you would like to try to [collaborate via emailing patches](https://git-scm.com/book/en/v2/Distributed-Git-Contributing-to-a-Project)."
   ]
  },
  {
   "cell_type": "markdown",
   "metadata": {
    "slideshow": {
     "slide_type": "slide"
    }
   },
   "source": [
    "## Maintaining a Project \n",
    "\n",
    "\n",
    "  - You may want to work in topic branches per contribution\n",
    "  - Receive contributions either:\n",
    "    - as patches via email\n",
    "    - by checking out remote branches"
   ]
  },
  {
   "cell_type": "markdown",
   "metadata": {
    "slideshow": {
     "slide_type": "subslide"
    }
   },
   "source": [
    "## Tasks when Maintaining a Project \n",
    "\n",
    "    \n",
    "    \n",
    "  - Determining what is introduced\n",
    "  - Integrate contributed work\n",
    "  - Tagging releases\n",
    "  - (Preparing) Release\n",
    "  \n",
    "  \n",
    "https://git-scm.com/book/en/v2/Distributed-Git-Maintaining-a-Project"
   ]
  },
  {
   "cell_type": "markdown",
   "metadata": {
    "slideshow": {
     "slide_type": "subslide"
    }
   },
   "source": [
    "### Integration/Merging Workflows\n",
    "      \n",
    "  - Merging topic branches into master\n",
    "    \n",
    "![](https://git-scm.com/book/en/v2/images/merging-workflows-1.png)\n",
    "![](https://git-scm.com/book/en/v2/images/merging-workflows-2.png)\n",
    "\n",
    "     \n",
    "     "
   ]
  },
  {
   "cell_type": "markdown",
   "metadata": {
    "slideshow": {
     "slide_type": "subslide"
    }
   },
   "source": [
    "  \n",
    "  - Merging topic branches staged\n",
    "      \n",
    "![](https://git-scm.com/book/en/v2/images/merging-workflows-3.png)\n",
    "![](https://git-scm.com/book/en/v2/images/merging-workflows-4.png)\n",
    "![](https://git-scm.com/book/en/v2/images/merging-workflows-5.png)\n",
    "      \n",
    "      "
   ]
  },
  {
   "cell_type": "markdown",
   "metadata": {
    "slideshow": {
     "slide_type": "subslide"
    }
   },
   "source": [
    "\n",
    "  - Merging contributed topic branches into long-term integration branches.\n",
    "     \n",
    "![](https://git-scm.com/book/en/v2/images/large-merges-2.png)\n"
   ]
  },
  {
   "cell_type": "markdown",
   "metadata": {
    "slideshow": {
     "slide_type": "subslide"
    }
   },
   "source": [
    "     \n",
    "  - Rebasing and cherry-picking\n",
    "    \n",
    "![](https://git-scm.com/book/en/v2/images/rebasing-1.png)\n",
    "![](https://git-scm.com/book/en/v2/images/rebasing-2.png)"
   ]
  },
  {
   "cell_type": "code",
   "execution_count": null,
   "metadata": {},
   "outputs": [],
   "source": []
  },
  {
   "cell_type": "markdown",
   "metadata": {
    "slideshow": {
     "slide_type": "slide"
    }
   },
   "source": [
    "# Reflection - What do you have to think about when using Git for development?\n",
    "\n",
    "In class feedback:\n",
    "\n",
    "  - Keeping changes local to one feature\n",
    "  - Which branching strategy to use?\n",
    "  - How to organise the team?\n",
    "  - Size of commits (working/conceptual/on the way)\n",
    "  - Architecture versus repo architecture?\n",
    "\n",
    "Helge's thoughts:\n",
    "\n",
    "  - Which branching model to use\n",
    "  - Which repository model to use\n",
    "  - How to incorporate changes from team members\n",
    "    - Github pull request?\n",
    "    - Direct merging of branches\n",
    "    - Direct commits\n",
    "    - Mails of patches\n",
    "    - Who is responsible for integration?\n",
    "    - When and how does that happen?\n",
    "    - Commit guidelines\n"
   ]
  },
  {
   "cell_type": "markdown",
   "metadata": {
    "slideshow": {
     "slide_type": "slide"
    }
   },
   "source": [
    "-----------\n",
    "\n",
    "\n",
    "# Your turn now!\n",
    "\n",
    "<img src=\"https://media.giphy.com/media/13GIgrGdslD9oQ/giphy.gif\" width=50%/>\n",
    "\n",
    "  - [1) Refactor _ITU-MiniTwit_ to another language of your choice.](#1\\)-Refactor-ITU-MiniTwit-to-another-language-of-your-choice.)\n",
    "  - [2) Start implementing an API for the simulator in your _ITU-MiniTwit_.](#2\\)-Start-implementing-an-API-for-the-simulator-in-your-ITU-MiniTwit.)\n",
    "  - [3) Describe Distributed Workflow](#3\\)-Describe-Distributed-Workflow)\n",
    "  - [4) Setup for next session](#4\\)-Setup-for-next-session)\n"
   ]
  },
  {
   "cell_type": "markdown",
   "metadata": {
    "slideshow": {
     "slide_type": "subslide"
    }
   },
   "source": [
    "## 1) Refactor _ITU-MiniTwit_ to another language of your choice.\n",
    "\n",
    "Now that you know more or less how _ITU-MiniTwit_ is working, your task is to evolve it away from from a Python/Flask application to the language and technology stack of your choice.\n",
    "\n",
    "**OBS**: \n",
    "\n",
    "  - Do not perform the \"big rewrite\" yet. That is, try to create a one to one copy of what you currently have in `minitwit.py`. If you want to, reuse the `static` artifacts, and `templates`. However, your new application shall have the same features as the current _ITU-MiniTwit_.\n",
    "  - Make sure that you map the current features before refactoring. \n",
    "  - Ideally, the test suite in `minitwit_tests.py` should pass for your refactored application too. In a next step you can translate the old test suite to your new language/tech. stack.\n",
    "\n",
    "\n",
    "\n",
    "Considerations for choice of language:\n",
    "\n",
    "  - Either choose a language that you know and want to practice (likely Java and C\\#)\n",
    "  - or choose a language and framework that you always wanted to learn but never had the time to do so.\n",
    "  \n",
    "Likely, the first option is appropriate for BSc students and the second option for MSc students.\n",
    "  \n",
    "  \n",
    "If I were in your position, I would consider one of the following:\n",
    "\n",
    "  - [Go](http://golang.org/) with [Gorilla](http://www.gorillatoolkit.org/)\n",
    "  - [Crystal](https://crystal-lang.org) with [Kemal](https://kemalcr.com)\n",
    "  - [Elixir](https://elixir-lang.org) with [Phoenix](https://www.phoenixframework.org)\n",
    "  - [Nim](https://nim-lang.org) with [Jester](https://github.com/dom96/jester)\n",
    "  - [Ruby](https://www.ruby-lang.org) with [Sinatra](sinatrarb.com)\n",
    "\n",
    "In case you choose Python as your implementation language you have to build a solution that does not rely on the Flask framework.\n",
    "\n",
    "\n",
    "**OBS MSc students**: Remember to log and provide good arguments for the choice of programming language and framework. Likely, a feature mapping/comparison or a mini-benchmark is a good choice.\n",
    "\n",
    "\n",
    "\n",
    "Prepare a new release with a first version of your rewritten version of your _ITU-MiniTwit_ latest by **Wednesday Feb 12th, at 23:59**)\n",
    "\n",
    "Use your programming-fu and not your Google-fu! You will learn the most by \n",
    "\n"
   ]
  },
  {
   "cell_type": "markdown",
   "metadata": {
    "slideshow": {
     "slide_type": "subslide"
    }
   },
   "source": [
    "## 2) Start implementing an API for the simulator in your _ITU-MiniTwit_.\n",
    "\n",
    "\n",
    "In some weeks, we will start a simulator that will run until the end of this course. It will simulate users using your micro-blogging platform.\n",
    "\n",
    "You can find the specification for the simulator API in \n",
    "`API Spec/minitwit_sim_api.py`. **OBS**: your applications have to:\n",
    "\n",
    "  - provide the same end points (on different hosts of course and potentially different ports),\n",
    "  - ingest the same HTTP requests, i.e., GETs and POSTs as specified with the same parameters and payloads as provided,\n",
    "  - provide at least the same HTTP status codes in response as specified.\n",
    "  \n",
    "  \n",
    "The `API Spec/minitwit_sim_api.py` depends on your refactored `minitwit.py` from last weeks' homework.\n",
    "\n",
    "A corresponding test (`API Spec/minitwit_sim_api_test.py`) illustrates how the simulator requests will be formed. You can inspect it and run it via `pytest minitwit_sim_api_test.py`. \n",
    "\n",
    "\n",
    "\n",
    "The API does not have to be complete by next week but you should be something like around 50% complete."
   ]
  },
  {
   "cell_type": "markdown",
   "metadata": {
    "slideshow": {
     "slide_type": "subslide"
    }
   },
   "source": [
    "## 3) Describe Distributed Workflow\n",
    "\n",
    "\n",
    "Think about, discuss in your groups, and note down in which way you are going to collaborate using Git in this project.\n",
    "\n",
    "You should reflect and decide on the following points:\n",
    "\n",
    "  - Which repository setup will we use?\n",
    "  - Which branching model will we use?\n",
    "  - Which distributed development workflow will we use?\n",
    "  - How do we expect contributions to look like?\n",
    "  - Who is responsible for integrating/reviewing contributions?\n",
    "  \n",
    "Information to at least all of the above points should end up in a markdown document in your main repository (likely called `CONTRIBUTE.md`)."
   ]
  },
  {
   "cell_type": "markdown",
   "metadata": {
    "slideshow": {
     "slide_type": "subslide"
    }
   },
   "source": [
    "## 4) Setup for next session\n",
    "\n",
    "Install Docker, VirtualBox, and Vagrant on your computer.\n",
    "\n",
    "\n",
    "\n",
    "### Docker\n",
    "\n",
    "Install Docker as for example like this:\n",
    "\n",
    "```bash\n",
    "sudo apt update\n",
    "sudo apt install apt-transport-https ca-certificates curl software-properties-common\n",
    "curl -fsSL https://download.docker.com/linux/ubuntu/gpg | sudo apt-key add -\n",
    "sudo add-apt-repository \"deb [arch=amd64] https://download.docker.com/linux/ubuntu bionic stable\"\n",
    "sudo apt update\n",
    "apt-cache policy docker-ce\n",
    "sudo apt install docker-ce\n",
    "sudo systemctl status docker\n",
    "sudo usermod -aG docker ${USER}\n",
    "su - ${USER}\n",
    "id -nG\n",
    "```\n",
    "\n",
    "The above is based on: https://www.digitalocean.com/community/tutorials/how-to-install-and-use-docker-on-ubuntu-18-04\n",
    "\n",
    "\n",
    "### Vagrant & VirtualBox\n",
    "\n",
    "```bash\n",
    "sudo apt-get install virtualbox virtualbox-ext-pack\n",
    "sudo apt-get install vagrant \n",
    "```\n",
    "\n",
    "Save the following into a file called `Vagrantfile` in your current directory:\n",
    "\n",
    "```ruby\n",
    "# -*- mode: ruby -*-\n",
    "# vi: set ft=ruby :\n",
    "\n",
    "Vagrant.configure(\"2\") do |config|\n",
    "\n",
    "  config.vm.box = \"generic/ubuntu1804\"\n",
    "  \n",
    "  config.vm.provider \"virtualbox\" do |vb|\n",
    "    # Customize the amount of memory on the VM:\n",
    "    vb.memory = \"1024\"\n",
    "  end\n",
    "end\n",
    "```\n",
    "\n",
    "\n",
    "Now, try to run from your current directory (the one in which you saved the `Vagrantfile`):\n",
    "\n",
    "```bash\n",
    "vagrant up\n",
    "```\n",
    "\n",
    "Observe that no error message is displayed. If so and in case you cannot find a solution for it, we will look at it in class.\n",
    "\n",
    "In case you did not receive any error message, for now, you can run:\n",
    "```bash\n",
    "vagrant destroy\n",
    "```\n",
    "\n",
    "In case you are running MacOS or Windows you might find helpful [installation instructions for your host operating system in the linked guide](https://www.itu.dk/people/ropf/blog/vagrant_install.html). Note, Vagrant cannot be run in a VM."
   ]
  }
 ],
 "metadata": {
  "celltoolbar": "Slideshow",
  "kernelspec": {
   "display_name": "Python 3",
   "language": "python",
   "name": "python3"
  },
  "language_info": {
   "codemirror_mode": {
    "name": "ipython",
    "version": 3
   },
   "file_extension": ".py",
   "mimetype": "text/x-python",
   "name": "python",
   "nbconvert_exporter": "python",
   "pygments_lexer": "ipython3",
   "version": "3.7.3"
  }
 },
 "nbformat": 4,
 "nbformat_minor": 2
}
