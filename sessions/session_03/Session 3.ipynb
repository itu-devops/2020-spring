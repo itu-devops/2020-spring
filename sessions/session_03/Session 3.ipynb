{
 "cells": [
  {
   "cell_type": "markdown",
   "metadata": {
    "slideshow": {
     "slide_type": "slide"
    }
   },
   "source": [
    "![](https://www.saa-authors.eu/picture/739/ftw_768/saa-mtcwmza4nzq5mq.jpg)"
   ]
  },
  {
   "cell_type": "markdown",
   "metadata": {
    "slideshow": {
     "slide_type": "slide"
    }
   },
   "source": [
    "# Recap\n"
   ]
  },
  {
   "cell_type": "markdown",
   "metadata": {
    "slideshow": {
     "slide_type": "subslide"
    }
   },
   "source": [
    "## Installing Vagrant\n",
    "\n",
    "\n",
    "I told you to install Vagrant via the central package repository. Unfortunately, that contains an older version of Vagrant that contains some bugs.\n",
    "\n",
    "So instead of:\n",
    "\n",
    "```bash\n",
    "sudo apt-get install vagrant \n",
    "```\n",
    "\n",
    "Download and install the package manually:\n",
    "\n",
    "```bash\n",
    "wget -c https://releases.hashicorp.com/vagrant/2.2.4/vagrant_2.2.4_x86_64.deb\n",
    "sudo dpkg -i vagrant_2.2.4_x86_64.deb\n",
    "sudo apt-get install --reinstall virtualbox-dkms\n",
    "```\n",
    "\n",
    "<!--\n",
    "https://www.microcloudy.com/2018/12/02/how-to-install-vagrant-and-virtualbox-on-ubuntu-18-10/\n",
    "-->"
   ]
  },
  {
   "cell_type": "markdown",
   "metadata": {},
   "source": [
    "## Installing Docker \n",
    "\n",
    "I forgot that we will use `docker-compose` today.\n",
    "\n",
    "In case you do not have it installed already, do so via:\n",
    "\n",
    "```bash\n",
    "sudo apt install docker-compose\n",
    "```"
   ]
  },
  {
   "cell_type": "markdown",
   "metadata": {
    "slideshow": {
     "slide_type": "subslide"
    }
   },
   "source": [
    "## Status of your rewrite?"
   ]
  },
  {
   "cell_type": "markdown",
   "metadata": {
    "slideshow": {
     "slide_type": "subslide"
    }
   },
   "source": [
    "![](images/no_releases.png)"
   ]
  },
  {
   "cell_type": "markdown",
   "metadata": {
    "slideshow": {
     "slide_type": "subslide"
    }
   },
   "source": [
    "## Simulator API Specification?"
   ]
  },
  {
   "cell_type": "markdown",
   "metadata": {
    "slideshow": {
     "slide_type": "slide"
    }
   },
   "source": [
    "----------------------\n",
    "# Getting bored today?\n",
    "\n",
    "\n",
    "![](http://static3.businessinsider.com/image/4fbfb86becad044879000001-506-253/suddenly-startups-have-gotten-very-boring.jpg)\n",
    "\n",
    "\n",
    "\n",
    "\n",
    "## Recreate the Docker Examples\n",
    "\n",
    "Recreate the Docker examples, see lecture notes below, to work with any of the follow alternative container engines:\n",
    "\n",
    "  * [LXC](https://linuxcontainers.org)\n",
    "  * [rkt](https://coreos.com/rkt/)\n",
    "  * [FreeBSD Jails](https://www.freebsd.org/doc/handbook/jails.html)\n",
    "  \n",
    "## Write Your Own Container Engine:\n",
    "\n",
    "\n",
    "  - Choose a programming language and implement a basic container engine.\n",
    "    - Start by watching Liz Rice's talk where she builds a basic container engine in Go: https://www.youtube.com/watch?v=HPuvDm8IC-4\n",
    "  - Use the following for inspiration:\n",
    "    - https://github.com/janoszen/demo-container-runtime\n",
    "    - https://github.com/p8952/bocker/blob/master/README.md\n",
    "    - https://www.infoq.com/articles/build-a-container-golang/\n",
    "    - https://github.com/Zakaria-Ben/Pocker\n",
    "\n",
    "----------------------\n"
   ]
  },
  {
   "cell_type": "markdown",
   "metadata": {
    "slideshow": {
     "slide_type": "slide"
    }
   },
   "source": [
    "# Mapping Software Dependencies"
   ]
  },
  {
   "cell_type": "markdown",
   "metadata": {
    "slideshow": {
     "slide_type": "subslide"
    }
   },
   "source": [
    "  > **Software artifact**: A software artifact is a tangible machine-readable document created during software development. Examples are requirement specification documents, design documents, source code and executables.\n",
    "  >\n",
    "  > [ISO/IEC 19506:2012 Information technology — Object Management Group Architecture-Driven Modernization (ADM) — Knowledge Discovery Meta-Model (KDM)](https://www.iso.org/obp/ui/#iso:std:iso-iec:19506:ed-1:v1:en)"
   ]
  },
  {
   "cell_type": "markdown",
   "metadata": {
    "slideshow": {
     "slide_type": "slide"
    }
   },
   "source": [
    "### Your Turn! -  `Task 1`\n",
    "<img src=\"https://media.giphy.com/media/13GIgrGdslD9oQ/giphy.gif\" width=50%/>\n",
    "\n",
    "  - Map the artifacts and all dependencies for the _ITU-MiniTwit_ (the Python 3.7) that you released last week.\n",
    "  - That is, start with `minitwit.py`, `flag_tool.c`, and `control.sh` and map all of their respective dependencies. \n",
    "  - Draw a dependency graph for all artifacts, and discuss with your group fellows if you have covered all artifacts.\n",
    "\n",
    "\n",
    "\n",
    "  - You might want to use GraphViz (http://www.webgraphviz.com/) to draw your graph quickly and declared as code.\n",
    "  - Dependency graph? See for example https://en.wikipedia.org/wiki/Dependency_graph"
   ]
  },
  {
   "cell_type": "markdown",
   "metadata": {
    "slideshow": {
     "slide_type": "subslide"
    }
   },
   "source": [
    "### Helge's take on the task\n",
    "\n",
    "![](images/minitwit-deps.png)"
   ]
  },
  {
   "cell_type": "markdown",
   "metadata": {
    "slideshow": {
     "slide_type": "slide"
    }
   },
   "source": [
    "### Your Turn! -  `Task 2`\n",
    "<img src=\"https://media.giphy.com/media/13GIgrGdslD9oQ/giphy.gif\" width=50%/>\n",
    "\n",
    "  - For each edge (arrow) indicate if it is a runtime dependency (*a*) or if it is a build-/compile-time dependency (_b_)\n",
    "  - Think about if certain dependencies require a specific version of artifact they depend on."
   ]
  },
  {
   "cell_type": "markdown",
   "metadata": {
    "slideshow": {
     "slide_type": "subslide"
    }
   },
   "source": [
    "![](images/minitwit-deps2.png)"
   ]
  },
  {
   "cell_type": "markdown",
   "metadata": {
    "slideshow": {
     "slide_type": "subslide"
    }
   },
   "source": [
    "  - Where do all these artifacts come from?\n",
    "  - Who knows about all of them?"
   ]
  },
  {
   "cell_type": "markdown",
   "metadata": {
    "slideshow": {
     "slide_type": "fragment"
    }
   },
   "source": [
    "\n",
    "  - When developing how do you get the required dependencies?\n",
    "  - In production, i.e., after deployment on a (potentially other) machine how do you get the required dependencies?\n"
   ]
  },
  {
   "cell_type": "markdown",
   "metadata": {
    "slideshow": {
     "slide_type": "fragment"
    }
   },
   "source": [
    "  \n",
    "  - Who is responsible for setting up/configuring all the dependencies?\n",
    "  - How often do you have to do this?"
   ]
  },
  {
   "cell_type": "markdown",
   "metadata": {
    "slideshow": {
     "slide_type": "slide"
    }
   },
   "source": [
    "# Virtualization to tackle development and production dependencies"
   ]
  },
  {
   "cell_type": "markdown",
   "metadata": {
    "slideshow": {
     "slide_type": "subslide"
    }
   },
   "source": [
    "## Virtual Machines (VM)\n",
    "\n",
    "\n",
    "  > A hypervisor or virtual machine monitor (VMM) is _computer software_, _firmware_ or _hardware_ that creates and runs virtual machines. A computer on which a hypervisor runs one or more virtual machines is called a **host machine**, and each virtual machine is called a **guest machine**. \n",
    "  >\n",
    "  > The hypervisor presents the guest operating systems with a virtual operating platform and manages the execution of the guest operating systems. Multiple instances of a variety of operating systems may share the virtualized hardware resources: for example, Linux, Windows, and macOS instances **can all run on a single physical x86 machine**. \n",
    "  >\n",
    "  > This contrasts with **operating-system-level virtualization**, where all instances (usually called containers) must **share a single kernel**, though the guest operating systems can **differ in user space**, such as different Linux distributions with the same kernel.\n",
    "  >\n",
    "  > https://en.wikipedia.org/wiki/Hypervisor\n",
    "\n",
    "![](https://upload.wikimedia.org/wikipedia/commons/e/e1/Hyperviseur.png)\n",
    "\n"
   ]
  },
  {
   "cell_type": "markdown",
   "metadata": {
    "slideshow": {
     "slide_type": "subslide"
    }
   },
   "source": [
    "\n",
    "  > Virtual machines run guest operating systems-note the OS layer in each box. This is resource intensive, and the resulting disk image and application state is an entanglement of OS settings, system-installed dependencies, OS security patches, and other easy-to-lose, hard-to-replicate ephemera.\n",
    "  >\n",
    "  > (https://docs.docker.com/get-started/#containers-vs-virtual-machines)\n",
    "\n",
    "\n",
    "<img src=\"https://docs.docker.com/images/VM%402x.png\" width=35%>\n"
   ]
  },
  {
   "cell_type": "markdown",
   "metadata": {
    "slideshow": {
     "slide_type": "subslide"
    }
   },
   "source": [
    "\n",
    "There are many different tools for running VMs. Some of them are:\n",
    "\n",
    "  * [Parallels Workstation](http://www.parallels.com/eu/all-products)\n",
    "  * [VirtualBox](http://virtualbox.org)\n",
    "  * [VMware](https://www.vmware.com) \n",
    "  * [QEMU](https://www.qemu.org)\n"
   ]
  },
  {
   "cell_type": "markdown",
   "metadata": {
    "slideshow": {
     "slide_type": "subslide"
    }
   },
   "source": [
    "We do not have a look at Qemu but you could have used it to run the original _ITU-MiniTwit_ without any modification in a PPC VM, see https://virtuallyfun.com/wordpress/2013/08/15/os-x-powerpc-on-qemu/.\n",
    "\n",
    "<img src=\"https://virtuallyfun.com/wordpress/wp-content/uploads/2013/08/Screen-Shot-2013-08-15-at-12.12.08-PM.png\" width=\"60%\">"
   ]
  },
  {
   "cell_type": "markdown",
   "metadata": {
    "slideshow": {
     "slide_type": "subslide"
    }
   },
   "source": [
    "\n",
    "### Hands-on VMs with Vagrant\n",
    "\n",
    "  > Vagrant is a tool for building and managing virtual machine environments in a single workflow. With an easy-to-use workflow and focus on automation, Vagrant lowers development environment setup time, increases production parity, and makes the \"works on my machine\" excuse a relic of the past.\n",
    "  >\n",
    "  > Vagrant provides easy to configure, reproducible, and portable work environments built on top of industry-standard technology and controlled by a single consistent workflow to help maximize the productivity and flexibility of you and your team.\n",
    "  >\n",
    "  > https://www.vagrantup.com"
   ]
  },
  {
   "cell_type": "markdown",
   "metadata": {
    "slideshow": {
     "slide_type": "subslide"
    }
   },
   "source": [
    "#### Intro to Vagrant\n",
    "\n",
    "##### Initialize & Start a VM\n",
    "\n",
    "You can start your setup by creating a `Vagrantfile`. The argument to `vagrant init` is the name of the *box*. That is, \n",
    "\n",
    "```bash\n",
    "$ mkdir vm\n",
    "$ cd vm\n",
    "$ vagrant init generic/ubuntu1804\n",
    "$ vagrant up\n",
    "```\n",
    "\n",
    "  > After running the above commands, you will have a fully functional VM in VirtualBox running Ubuntu 18.04 LTS 64-bit. You can SSH into this machine with `vagrant ssh`, and when you are done playing around, you can terminate the virtual machine with `vagrant destroy`.\n",
    "  "
   ]
  },
  {
   "cell_type": "markdown",
   "metadata": {
    "slideshow": {
     "slide_type": "subslide"
    }
   },
   "source": [
    "##### Accessing a VM\n",
    "\n",
    "You log onto a VM with SSH as in the following.\n",
    "\n",
    "```bash\n",
    "$ vagrant ssh\n",
    "```\n",
    "\n",
    "You can leave the guest VM with:\n",
    "\n",
    "```bash\n",
    "$ vagrant@vagrant: exit\n",
    "```"
   ]
  },
  {
   "cell_type": "markdown",
   "metadata": {
    "slideshow": {
     "slide_type": "subslide"
    }
   },
   "source": [
    "##### Teardown\n",
    "\n",
    "You can put a running VM \n",
    "\n",
    "  * to sleep \n",
    "  \n",
    "  ```bash\n",
    "  $ vagrant suspend\n",
    "  ```\n",
    "  \n",
    "  * turn it off \n",
    "  \n",
    "  ```bash\n",
    "  $ vagrant halt\n",
    "  ``` \n",
    "  * or remove it completely \n",
    "  \n",
    "  ```bash\n",
    "  $ vagrant destroy\n",
    "  ```\n"
   ]
  },
  {
   "cell_type": "markdown",
   "metadata": {
    "slideshow": {
     "slide_type": "-"
    }
   },
   "source": [
    "##### State of VMs\n",
    "\n",
    "```bash\n",
    "$ vagrant global-status\n",
    "```"
   ]
  },
  {
   "cell_type": "markdown",
   "metadata": {
    "slideshow": {
     "slide_type": "subslide"
    }
   },
   "source": [
    "That is, you can quickly setup development environments for many operating systems. For example, in the following the initialization and use of a FreeBSD and Windows VM.\n",
    "\n",
    "```bash\n",
    "$ mkdir vm_freebsd\n",
    "$ cd vm_freebsd\n",
    "$ vagrant init freebsd/FreeBSD-11.0-STABLE\n",
    "$ vagrant up\n",
    "```\n",
    "\n",
    "```bash\n",
    "$ mkdir vm_win\n",
    "$ cd vm\n",
    "$ vagrant init senglin/win-10-enterprise-vs2015community\n",
    "$ vagrant up\n",
    "```"
   ]
  },
  {
   "cell_type": "markdown",
   "metadata": {
    "slideshow": {
     "slide_type": "subslide"
    }
   },
   "source": [
    "You can find a catalogue of available boxes at https://app.vagrantup.com/boxes/search\n",
    "\n",
    "<img src=\"images/vm_catalogue.png\" width=\"80%\">"
   ]
  },
  {
   "cell_type": "markdown",
   "metadata": {},
   "source": [
    "#### Multi-machine setup\n",
    "\n",
    "The above creates a `Vagrantfile` for each setup. However, you can manage multiple VMs with a single `Vagrantfile`:\n",
    "\n",
    "```ruby\n",
    "# -*- mode: ruby -*-\n",
    "# vi: set ft=ruby :\n",
    "\n",
    "Vagrant.configure(\"2\") do |config|\n",
    "\n",
    "  config.vm.provider \"virtualbox\" do |vb|\n",
    "    # Display the VirtualBox GUI when booting the machine\n",
    "    vb.gui = true\n",
    "\n",
    "    # Customize the amount of memory on the VM:\n",
    "    vb.memory = \"4096\"\n",
    "  end\n",
    "\n",
    "  config.vm.define \"windows\" do |windows|\n",
    "    windows.vm.box = \"senglin/win-10-enterprise-vs2015community\"\n",
    "    windows.vm.box_version = \"1.0.0\"\n",
    "  end\n",
    "\n",
    "  config.vm.define \"macos\" do |macos|\n",
    "    macos.vm.box = \"yzgyyang/macOS-10.14\"\n",
    "  end\n",
    "\n",
    "  config.vm.define \"ubuntu16\" do |ubuntu|\n",
    "    ubuntu.vm.box = \"bento/ubuntu-16.04\"\n",
    "  end\n",
    "\n",
    "  config.vm.define \"ubuntu\" do |ubuntu|\n",
    "    ubuntu.vm.box = \"generic/ubuntu1804\"\n",
    "  end\n",
    "\n",
    "  config.vm.define \"freebsd\" do |ubuntu|\n",
    "    config.vm.box = \"generic/freebsd12\"\n",
    "  end\n",
    "end\n",
    "```"
   ]
  },
  {
   "cell_type": "markdown",
   "metadata": {
    "slideshow": {
     "slide_type": "subslide"
    }
   },
   "source": [
    "\n",
    "#### Different Providers\n",
    "\n",
    "In this class, I always use VirtualBox as a local provider and DigitalOcean as remote (\"cloud\") provider. However, you can use many other, such as _VMWare_, _Parallels_, _AWS_, _Azure_, etc. To provision your VMs at remote providers in the cloud, you need usually a corresponding Vagrant plug-in.\n",
    "\n",
    "```bash\n",
    "$ vagrant up --provider=digital_ocean\n",
    "$ vagrant up --provider=aws\n",
    "$ vagrant up --provider=azure\n",
    "```\n",
    "\n",
    "The first line would deploy your VM as droplet on DigitalOcean (https://github.com/devopsgroup-io/vagrant-digitalocean), the second line would do similarly on Amazon AWS (https://github.com/mitchellh/vagrant-aws), and the third line would deploy at Azure (https://github.com/Azure/vagrant-azure)."
   ]
  },
  {
   "cell_type": "markdown",
   "metadata": {
    "slideshow": {
     "slide_type": "slide"
    }
   },
   "source": [
    "### Your Turn! -  `Task 3` - A deeper dive into Vagrant with a **local** development scenario\n",
    "<img src=\"https://media.giphy.com/media/13GIgrGdslD9oQ/giphy.gif\" width=50%/>\n",
    "\n",
    "The scenario is lying in the repository (branch `VMify_local`): https://github.com/HelgeCPH/flask-minitwit-mongodb/tree/VMify_local\n",
    "\n",
    "Clone the repository, switch to the right branch and let the VMs start-up.\n",
    "\n",
    "```bash\n",
    "$ git clone https://github.com/HelgeCPH/flask-minitwit-mongodb.git\n",
    "$ cd flask-minitwit-mongodb\n",
    "$ git checkout VMify_local\n",
    "$ vagrant up\n",
    "Bringing machine 'dbserver' up with 'virtualbox' provider...\n",
    "Bringing machine 'webserver' up with 'virtualbox' provider...\n",
    "...\n",
    "```\n",
    "\n",
    "\n",
    "\n",
    "#### While waiting, let's decipher the `Vagrantfile`\n",
    "\n",
    "In case you are in doubt about anything check the [brief and really good documentation](https://www.vagrantup.com/docs/).\n"
   ]
  },
  {
   "cell_type": "markdown",
   "metadata": {
    "slideshow": {
     "slide_type": "subslide"
    }
   },
   "source": [
    "```ruby\n",
    "# -*- mode: ruby -*-\n",
    "# vi: set ft=ruby :\n",
    "\n",
    "Vagrant.configure(\"2\") do |config|\n",
    "  config.vm.box = \"generic/ubuntu1804\"\n",
    "\n",
    "  config.vm.network \"private_network\", type: \"dhcp\"\n",
    "\n",
    "  # For two way synchronization you might want to try `type: \"virtualbox\"`\n",
    "  config.vm.synced_folder \".\", \"/vagrant\", type: \"rsync\"\n",
    "\n",
    "  config.vm.define \"dbserver\", primary: true do |server|\n",
    "    server.vm.network \"private_network\", ip: \"192.168.20.2\"\n",
    "    config.vm.network \"forwarded_port\", guest: 27017, host: 27017\n",
    "    config.vm.network \"forwarded_port\", guest: 28017, host: 28017\n",
    "    server.vm.provider \"virtualbox\" do |vb|\n",
    "      vb.memory = \"1024\"\n",
    "    end\n",
    "    server.vm.hostname = \"dbserver\"\n",
    "    server.vm.provision \"shell\", inline: <<-SHELL\n",
    "        echo \"Installing MongoDB\"\n",
    "        wget -qO - https://www.mongodb.org/static/pgp/server-4.2.asc | sudo apt-key add -\n",
    "        echo \"deb [ arch=amd64 ] https://repo.mongodb.org/apt/ubuntu bionic/mongodb-org/4.2 multiverse\" | sudo tee /etc/apt/sources.list.d/mongodb-org-4.2.list\n",
    "        sudo apt-get update\n",
    "        sudo apt-get install -y mongodb-org\n",
    "\n",
    "        sudo mkdir -p /data/db\n",
    "        sudo sed -i '/  bindIp:/ s/127.0.0.1/0.0.0.0/' /etc/mongod.conf\n",
    "\n",
    "        sudo systemctl start mongod\n",
    "        mongorestore --gzip /vagrant/dump\n",
    "    SHELL\n",
    "  end\n",
    "\n",
    "  config.vm.define \"webserver\", primary: true do |server|\n",
    "    server.vm.network \"private_network\", ip: \"192.168.20.3\"\n",
    "    server.vm.network \"forwarded_port\", guest: 5000, host: 5000\n",
    "    server.vm.provider \"virtualbox\" do |vb|\n",
    "      vb.memory = \"1024\"\n",
    "    end\n",
    "    server.vm.hostname = \"webserver\"\n",
    "    server.vm.provision \"shell\", inline: <<-SHELL\n",
    "        export DB_IP=\"192.168.20.2\"\n",
    "\n",
    "        echo \"Installing Anaconda...\"\n",
    "        sudo wget https://repo.anaconda.com/archive/Anaconda3-2019.07-Linux-x86_64.sh -O $HOME/Anaconda3-2019.07-Linux-x86_64.sh\n",
    "    \n",
    "        bash ~/Anaconda3-2019.07-Linux-x86_64.sh -b\n",
    "        \n",
    "        echo \". $HOME/.bashrc\" >> $HOME/.bash_profile\n",
    "        echo \"export PATH=$HOME/anaconda3/bin:$PATH\" >> $HOME/.bash_profile\n",
    "        export PATH=\"$HOME/anaconda3/bin:$PATH\"\n",
    "        rm Anaconda3-2019.07-Linux-x86_64.sh\n",
    "        source $HOME/.bash_profile\n",
    "\n",
    "        pip install Flask-PyMongo\n",
    "\n",
    "        cp -r /vagrant/* $HOME\n",
    "        nohup python minitwit.py > out.log &\n",
    "        echo \"=================================================================\"\n",
    "        echo \"=                            DONE                               =\"\n",
    "        echo \"=================================================================\"\n",
    "        echo \"Navigate in your browser to:\"\n",
    "        echo \"http://192.168.20.3:5000\"\n",
    "    SHELL\n",
    "  end\n",
    "\n",
    "  config.vm.provision \"shell\", privileged: false, inline: <<-SHELL\n",
    "    sudo apt-get update\n",
    "  SHELL\n",
    "end\n",
    "```"
   ]
  },
  {
   "cell_type": "markdown",
   "metadata": {
    "slideshow": {
     "slide_type": "slide"
    }
   },
   "source": [
    "Other ways of provisioning, such as with [Ansible Playbooks](https://docs.ansible.com/ansible/latest/user_guide/playbooks.html), [Chef cookbooks](https://docs.chef.io/chef_solo.html), or [Puppet](https://www.puppetlabs.com/puppet).\n",
    "\n",
    "See https://www.vagrantup.com/docs/provisioning/ for more on different provisioning tools."
   ]
  },
  {
   "cell_type": "markdown",
   "metadata": {
    "slideshow": {
     "slide_type": "subslide"
    }
   },
   "source": [
    "### A deeper dive into Vagrant with a **remote** development scenario\n",
    "### Your Turn at home or before leaving!\n",
    "<img src=\"https://media.giphy.com/media/13GIgrGdslD9oQ/giphy.gif\" width=50%/>\n",
    "\n",
    "\n",
    "  - To make this example work properly, you have to have a pair of SSH keys. In case you do not have them set up yet see [this tutorial](https://www.digitalocean.com/community/tutorials/how-to-set-up-ssh-keys-on-ubuntu-1804) for how to do this.\n",
    "\n",
    "  - It is assumed that your SSH keys are located in your home directory in the hidden directory `~/.ssh/id_rsa`. In case you have them stored somewhere else, you have to modify the line `config.ssh.private_key_path = '~/.ssh/id_rsa'` in the below Vagrant file accordingly.\n",
    "  - You have to be registered at DigitalOcean (remember to use your free credit from the Github education pack)\n",
    "  - [Your public key has to be registered at DigitalOcean](https://www.digitalocean.com/docs/droplets/how-to/add-ssh-keys/to-account/)\n",
    "\n",
    "  - Additionally, you have to have two environment variables set. One `$SSH_KEY_NAME` which is the name of the key that you have registered at DigitalOcean's homepage. Furthermore, the `Vagrantfile` assumes that you have set the environment variable `$DIGITAL_OCEAN_TOKEN` to the API token, which you receive from DigitalOcean, see [this tutorial](https://www.digitalocean.com/docs/api/create-personal-access-token/)\n",
    "\n",
    "  - Lastly, you need to have the DigitalOcean Vagrant Provider installed. Do so by running:\n",
    "\n",
    "```bash\n",
    "$ vagrant plugin install vagrant-digitalocean\n",
    "```\n",
    "\n",
    "Now, switch to the `VMify_remote` branch of the example repository and see if everything starts up correclty\n",
    "\n",
    "\n",
    "```bash\n",
    "$ git clone https://github.com/HelgeCPH/flask-minitwit-mongodb.git\n",
    "$ cd flask-minitwit-mongodb\n",
    "$ git checkout VMify_remote\n",
    "$ rm -r .vagrant/\n",
    "$ vagrant up\n",
    "Bringing machine 'dbserver' up with 'virtualbox' provider...\n",
    "Bringing machine 'webserver' up with 'virtualbox' provider...\n",
    "...\n",
    "```\n",
    "\n",
    "#### While waiting, let's decipher the `Vagrantfile` for remote deployment\n",
    "\n",
    "In case you are in doubt about anything check the [brief and really good documentation](https://www.vagrantup.com/docs/)."
   ]
  },
  {
   "cell_type": "markdown",
   "metadata": {
    "slideshow": {
     "slide_type": "subslide"
    }
   },
   "source": [
    "```ruby\n",
    "# -*- mode: ruby -*-\n",
    "# vi: set ft=ruby :\n",
    "\n",
    "$ip_file = \"db_ip.txt\"\n",
    "\n",
    "Vagrant.configure(\"2\") do |config|\n",
    "    config.vm.box = 'digital_ocean'\n",
    "    config.vm.box_url = \"https://github.com/devopsgroup-io/vagrant-digitalocean/raw/master/box/digital_ocean.box\"\n",
    "    config.ssh.private_key_path = '~/.ssh/id_rsa'\n",
    "    config.vm.synced_folder \".\", \"/vagrant\", type: \"rsync\"\n",
    "  \n",
    "    config.vm.define \"dbserver\", primary: true do |server|\n",
    "      server.vm.provider :digital_ocean do |provider|\n",
    "        provider.ssh_key_name = ENV[\"SSH_KEY_NAME\"]\n",
    "        provider.token = ENV[\"DIGITAL_OCEAN_TOKEN\"]\n",
    "        provider.image = 'ubuntu-18-04-x64'\n",
    "        provider.region = 'fra1'\n",
    "        provider.size = '1gb'\n",
    "        provider.privatenetworking = true\n",
    "      end\n",
    "  \n",
    "      server.vm.hostname = \"dbserver\"\n",
    "\n",
    "      server.trigger.after :up do |trigger|\n",
    "        trigger.info =  \"Writing dbserver's IP to file...\"\n",
    "        trigger.ruby do |env,machine|\n",
    "          remote_ip = machine.instance_variable_get(:@communicator).instance_variable_get(:@connection_ssh_info)[:host]\n",
    "          File.write($ip_file, remote_ip)\n",
    "        end \n",
    "      end\n",
    "\n",
    "      server.vm.provision \"shell\", inline: <<-SHELL\n",
    "        echo \"Installing MongoDB\"\n",
    "        wget -qO - https://www.mongodb.org/static/pgp/server-4.2.asc | sudo apt-key add -\n",
    "        echo \"deb [ arch=amd64 ] https://repo.mongodb.org/apt/ubuntu bionic/mongodb-org/4.2 multiverse\" | sudo tee /etc/apt/sources.list.d/mongodb-org-4.2.list\n",
    "        sudo apt-get update\n",
    "        sudo apt-get install -y mongodb-org\n",
    "\n",
    "        sudo mkdir -p /data/db\n",
    "        sudo sed -i '/  bindIp:/ s/127.0.0.1/0.0.0.0/' /etc/mongod.conf\n",
    "\n",
    "        sudo systemctl start mongod\n",
    "        mongorestore --gzip /vagrant/dump\n",
    "      SHELL\n",
    "    end\n",
    "\n",
    "    config.vm.define \"webserver\", primary: false do |server|\n",
    "  \n",
    "      server.vm.provider :digital_ocean do |provider|\n",
    "        provider.ssh_key_name = ENV[\"SSH_KEY_NAME\"]\n",
    "        provider.token = ENV[\"DIGITAL_OCEAN_TOKEN\"]\n",
    "        provider.image = 'ubuntu-18-04-x64'\n",
    "        provider.region = 'fra1'\n",
    "        provider.size = '1gb'\n",
    "        provider.privatenetworking = true\n",
    "      end\n",
    "\n",
    "      server.vm.hostname = \"webserver\"\n",
    "\n",
    "      server.trigger.before :up do |trigger|\n",
    "        trigger.info =  \"Waiting to create server until dbserver's IP is available.\"\n",
    "        trigger.ruby do |env,machine|\n",
    "          while !File.file?($ip_file) do\n",
    "            sleep(1)\n",
    "          end\n",
    "          db_ip = File.read($ip_file).strip()\n",
    "          puts \"Now, I have it...\"\n",
    "          puts db_ip\n",
    "        end \n",
    "      end\n",
    "\n",
    "      server.trigger.after :provision do |trigger|\n",
    "        trigger.ruby do |env,machine|\n",
    "          File.delete($ip_file) if File.exists? $ip_file\n",
    "        end \n",
    "      end\n",
    "\n",
    "      server.vm.provision \"shell\", inline: <<-SHELL\n",
    "        export DB_IP=`cat /vagrant/db_ip.txt`\n",
    "        echo $DB_IP\n",
    "\n",
    "        echo \"Installing Anaconda...\"\n",
    "        sudo wget https://repo.anaconda.com/archive/Anaconda3-2019.07-Linux-x86_64.sh -O $HOME/Anaconda3-2019.07-Linux-x86_64.sh\n",
    "    \n",
    "        bash ~/Anaconda3-2019.07-Linux-x86_64.sh -b\n",
    "        \n",
    "        echo \". $HOME/.bashrc\" >> $HOME/.bash_profile\n",
    "        echo \"export PATH=$HOME/anaconda3/bin:$PATH\" >> $HOME/.bash_profile\n",
    "        export PATH=\"$HOME/anaconda3/bin:$PATH\"\n",
    "        rm Anaconda3-2019.07-Linux-x86_64.sh\n",
    "        source $HOME/.bash_profile\n",
    "\n",
    "        pip install Flask-PyMongo\n",
    "\n",
    "        cp -r /vagrant/* $HOME\n",
    "        nohup python minitwit.py > out.log 2>&1 &\n",
    "        echo \"=================================================================\"\n",
    "        echo \"=                            DONE                               =\"\n",
    "        echo \"=================================================================\"\n",
    "        echo \"Navigate in your browser to:\"\n",
    "        THIS_IP=`hostname -I | cut -d\" \" -f1`\n",
    "        echo \"http://${THIS_IP}:5000\"\n",
    "      SHELL\n",
    "    end\n",
    "    config.vm.provision \"shell\", privileged: false, inline: <<-SHELL\n",
    "      sudo apt-get update\n",
    "    SHELL\n",
    "  end\n",
    "```"
   ]
  },
  {
   "cell_type": "markdown",
   "metadata": {
    "slideshow": {
     "slide_type": "subslide"
    }
   },
   "source": [
    "### Your Turn! -  `Task4`\n",
    "<img src=\"https://media.giphy.com/media/13GIgrGdslD9oQ/giphy.gif\" width=50%/>\n",
    "\n",
    "  * Take the local development scenario from https://github.com/HelgeCPH/flask-minitwit-mongodb/tree/VMify_local (branch `VMify_local`).\n",
    "  * Add a third local machine with the IP `192.168.20.4`. \n",
    "  * Let it be a machine with the same Ubuntu installation. \n",
    "  * On it, install a text-based browser, such as `lynx` or `w3m`.\n",
    "  * Use the `curl` command and the text-based browser and see that you can connect to http://192.168.20.3:5000\n",
    "\n",
    "Add all required dependencies and configurations to the `provision` script of the new VM."
   ]
  },
  {
   "cell_type": "markdown",
   "metadata": {
    "slideshow": {
     "slide_type": "slide"
    }
   },
   "source": [
    "----------------\n",
    "\n",
    "# Hands-on, Containers with Docker\n",
    "\n",
    "<img src=\"https://docs.docker.com/images/Container%402x.png\" width=35%>\n",
    "\n",
    "\n",
    "\n",
    "  > A container image is a lightweight, stand-alone, executable package of a piece of software that includes everything needed to run it: code, runtime, system tools, system libraries, settings.\n",
    "  > \n",
    "  > ...\n",
    "  > \n",
    "  > Containers isolate software from its surroundings, for example differences between development and staging environments and help reduce conflicts between teams running different software on the same infrastructure. (https://www.docker.com/what-container)"
   ]
  },
  {
   "cell_type": "markdown",
   "metadata": {},
   "source": [
    "## Running my first container!\n",
    "\n",
    "```bash\n",
    "$ docker run --rm hello-world\n",
    "Unable to find image 'hello-world:latest' locally\n",
    "latest: Pulling from library/hello-world\n",
    "1b930d010525: Pull complete\n",
    "Digest: sha256:9572f7cdcee8591948c2963463447a53466950b3fc15a247fcad1917ca215a2f\n",
    "Status: Downloaded newer image for hello-world:latest\n",
    "\n",
    "Hello from Docker!\n",
    "This message shows that your installation appears to be working correctly.\n",
    "\n",
    "To generate this message, Docker took the following steps:\n",
    " 1. The Docker client contacted the Docker daemon.\n",
    " 2. The Docker daemon pulled the \"hello-world\" image from the Docker Hub.\n",
    "    (amd64)\n",
    " 3. The Docker daemon created a new container from that image which runs the\n",
    "    executable that produces the output you are currently reading.\n",
    " 4. The Docker daemon streamed that output to the Docker client, which sent it\n",
    "    to your terminal.\n",
    "\n",
    "To try something more ambitious, you can run an Ubuntu container with:\n",
    " $ docker run -it ubuntu bash\n",
    "\n",
    "Share images, automate workflows, and more with a free Docker ID:\n",
    " https://hub.docker.com/\n",
    "\n",
    "For more examples and ideas, visit:\n",
    " https://docs.docker.com/get-started/\n",
    "```\n",
    "\n",
    "The command above downloaded the image `hello-world` from the [Docker Hub](https://hub.docker.com), instantiated a container from that image, ran the application within this container, and finally deleted the container (`--rm`)."
   ]
  },
  {
   "cell_type": "markdown",
   "metadata": {
    "slideshow": {
     "slide_type": "subslide"
    }
   },
   "source": [
    "### I need a Linux Shell quickly!\n",
    "\n",
    "Check on [Docker Hub](https://hub.docker.com), there are images for many different flavors of Linux and for many packaged applications.\n",
    "\n",
    "```bash\n",
    "$ docker run -it --rm alpine:latest sh\n",
    "```\n",
    "\n",
    "What does that do? It tells Docker to run a container with the latest version of Alpine Linux (a small Linux Distribution), connect to the shell process `sh`, run it interactively `-it` so that you can type in commands and see the results, and finally, to remove the container `--rm` after exiting from the container.\n",
    "\n",
    "\n",
    "\n"
   ]
  },
  {
   "cell_type": "markdown",
   "metadata": {
    "slideshow": {
     "slide_type": "subslide"
    }
   },
   "source": [
    "### Volumes\n",
    "\n",
    "You can mount directories (_volumes_) from your host to a container using the `-v` flag.\n",
    "\n",
    "```bash\n",
    "$ docker run -it -v $(pwd):/host alpine:latest /bin/sh\n",
    "```"
   ]
  },
  {
   "cell_type": "markdown",
   "metadata": {
    "slideshow": {
     "slide_type": "subslide"
    }
   },
   "source": [
    "\n",
    "### Development with Containers\n",
    "\n",
    "Let's build a simple webserver in [Go](https://golang.org). To not mess with our development machine we could use a Docker container, which has the Go compiler readily installed.\n",
    "\n",
    "Find the following `basic_http_server.go` file in the directory `./webserver`.\n",
    "\n",
    "```go\n",
    "package main\n",
    "\n",
    "import (\n",
    "\t\"fmt\"\n",
    "\t\"log\"\n",
    "\t\"net/http\"\n",
    ")\n",
    "\n",
    "func helloWorldHandler(w http.ResponseWriter, r *http.Request) {\n",
    "\tfmt.Fprint(w, \"Hej verden!\\n\")\n",
    "}\n",
    "\n",
    "func main() {\n",
    "\tport := 8080\n",
    "\n",
    "\thttp.HandleFunc(\"/\", helloWorldHandler)\n",
    "\n",
    "\tlog.Printf(\"Server starting on port %v\\n\", port)\n",
    "\tlog.Fatal(http.ListenAndServe(fmt.Sprintf(\":%v\", port), nil))\n",
    "}\n",
    "```\n",
    "\n",
    "To containerize that program, or better to run that program in a container without installing the compiler to our machines directly, you could run:\n",
    "\n",
    "```bash\n",
    "$ docker run -it --rm \\\n",
    "    --name myserver \\\n",
    "    -v $(pwd)/webserver:/src \\\n",
    "    -p 8080:8080 \\\n",
    "    -w /src \\\n",
    "    golang:jessie go run basic_http_server.go\n",
    "```"
   ]
  },
  {
   "cell_type": "markdown",
   "metadata": {
    "slideshow": {
     "slide_type": "subslide"
    }
   },
   "source": [
    "That command instantiates a container of the image `golang:jessie` (an Ubuntu Linux with Go and some other necessary tools readily installed). Furthermore, we share our local code in `./webserver` with the container. There it is mounted to the `/src` directory. With `-w` we change the current working directory in that container to `/src`. Additionally, `-p 8080:8080` tells Docker to forward the port `8080` from the container to the same port number on our host. The port number in front of `:` specifies the port on the host, which gets bound to which port of the container (number after `:`). Finally, we run the program within the container `go run basic_http_server.go`.\n",
    "\n",
    "Note, you could also build the program in the container and run the resulting binary.\n",
    "\n",
    "```bash\n",
    "$ docker run -it --rm \\\n",
    "    --name myserver \\\n",
    "    -v $(pwd)/webserver:/src \\\n",
    "    -p 8080:8080 \\\n",
    "    -w /src \\\n",
    "    golang:jessie bash -c \"go build basic_http_server.go; ./basic_http_server\"\n",
    "```"
   ]
  },
  {
   "cell_type": "markdown",
   "metadata": {},
   "source": [
    "Now, you can access the webserver on your host machine on http://127.0.0.1:8080. If you point your browser to that address you should see the following:\n",
    "\n",
    "![](images/simple_dockerized_webapp.png)\n",
    "\n",
    "Alternatively, you could run `curl` on your host machine to see that our server is working correctly. \n",
    "\n",
    "```bash\n",
    "$ curl -s http://127.0.0.1:8080\n",
    "```"
   ]
  },
  {
   "cell_type": "markdown",
   "metadata": {},
   "source": [
    "Unfortunately, many operating systems do not come with the `curl` program installed. But likely there is a dockerized version of this program. If you run:\n",
    "\n",
    "```bash\n",
    "$ docker run --rm \\\n",
    "    --link myserver \\\n",
    "    appropriate/curl:latest curl -s http://myserver:8080\n",
    "Hej verden!\n",
    "```\n",
    "\n",
    "then you downlad an image with a small Linux and with `curl` installed. However, the command above also allows the `curl` client to see our webserver `--link myserver`. Try to run the command above without that flag and see what happens.\n",
    "\n",
    "To find more Docker images and dockerized programs have a look at https://hub.docker.com.\n"
   ]
  },
  {
   "cell_type": "markdown",
   "metadata": {},
   "source": [
    "## `Dockerfile`s\n",
    "\n",
    "`Dockerfile`s are similar to the `Vagrantfile`s that we discussed earlier. They describe exactly the configuration of a container. Unlike `Vagrantfile`s these configurations are stored as slices on top of each other.\n",
    "\n",
    "Let's have a look on an example application. It will consist of a webserver and of a simple client. The webserver serves a static HTTP message on port 8080 and the client is just an HTTP `GET` query receiving this message via `curl`. The following UML deployment diagram illustrates this setup\n",
    "\n",
    "![](images/vm_deployment_basic.png)\n",
    "\n",
    "\n",
    "Let's have a look at a `Dockerfile` that specifies our webserver.\n",
    "\n",
    "```Dockerfile\n",
    "FROM golang:jessie\n",
    "\n",
    "# Install any needed dependencies...\n",
    "# RUN go get ...\n",
    "\n",
    "# Set the working directory\n",
    "WORKDIR /src\n",
    "\n",
    "# Copy the server code into the container\n",
    "COPY basic_http_server.go /src/basic_http_server.go\n",
    "\n",
    "# Make port 8080 available to the host\n",
    "EXPOSE 8080\n",
    "\n",
    "# Build and run the server when the container is started\n",
    "RUN go build /src/basic_http_server.go\n",
    "ENTRYPOINT ./basic_http_server\n",
    "```\n"
   ]
  },
  {
   "cell_type": "markdown",
   "metadata": {
    "slideshow": {
     "slide_type": "subslide"
    }
   },
   "source": [
    "\n",
    "As you can see from the above configuration, the `Dockerfile` is similar to everything described in our earlier CLI command:\n",
    "\n",
    "```bash\n",
    "$ docker run -it --rm \\\n",
    "    -v $(pwd)/webserver:/src \\\n",
    "    -p 8080:8080 \\\n",
    "    -w /src \\\n",
    "    golang:jessie bash -c \"go build basic_http_server.go; ./basic_http_server\"\n",
    "```\n",
    "\n",
    "Keywords in `Dockerfile`s are `FROM`, `MAINTAINER`, `LABEL`, `RUN`, `CMD`, `EXPOSE`, `ENV`, ADD or `COPY`, `ENTRYPOINT`, `VOLUME`, `USER`, `WORKDIR`, `ONBUILD`. You can read more on them in the documentation: https://docs.docker.com/engine/userguide/eng-image/dockerfile_best-practices/#the-dockerfile-instructions.\n"
   ]
  },
  {
   "cell_type": "markdown",
   "metadata": {
    "slideshow": {
     "slide_type": "subslide"
    }
   },
   "source": [
    "### Building the Webserver Image\n",
    "\n",
    "To use containers with our webserver, we first have to build a corresponding image. If you have the above `Dockerfile` stored in a directory `webserver` you can do so as in the following:\n",
    "\n",
    "```bash\n",
    "$ cd webserver\n",
    "$ docker build -t <your_id>/myserver .\n",
    "```\n",
    "\n",
    "The `-t` flag tells Docker to build an image with the given name `<your_id>/myserver`. The `.` says: _build the image with the `Dockerfile` in this directory_.\n",
    "\n",
    "After building your image, you can verify that it is now accessible on your machine.\n",
    "\n",
    "```bash\n",
    "$ docker images\n",
    "REPOSITORY           TAG                 IMAGE ID            CREATED             SIZE\n",
    "your_id/myserver     latest              a5fe35de13d2        8 seconds ago       704MB\n",
    "appropriate/curl     latest              f73fee23ac74        3 weeks ago         5.35MB\n",
    "golang               jessie              6ce094895555        4 weeks ago         699MB\n",
    "```\n"
   ]
  },
  {
   "cell_type": "markdown",
   "metadata": {
    "slideshow": {
     "slide_type": "subslide"
    }
   },
   "source": [
    "### Running the Webserver as Container\n",
    "\n",
    "```bash\n",
    "$ docker run --name webserver -p 8080:8080 <your_id>/myserver\n",
    "```\n",
    "\n",
    "### Stopping and Restarting the Webserver\n",
    "\n",
    "```bash\n",
    "$ docker stop webserver\n",
    "```\n",
    "\n",
    "```bash\n",
    "$ docker start webserver\n",
    "```\n"
   ]
  },
  {
   "cell_type": "markdown",
   "metadata": {
    "slideshow": {
     "slide_type": "subslide"
    }
   },
   "source": [
    "### Building the Client Image\n",
    "\n",
    "\n",
    "```Dockerfile\n",
    "FROM appropriate/curl:latest\n",
    "\n",
    "ENTRYPOINT curl -s http://webserver:8080\n",
    "```\n",
    "\n",
    "### Building the Client Image\n",
    "\n",
    "```bash\n",
    "$ cd client\n",
    "$ docker build -t <your_id>/myclient .\n",
    "```\n",
    "\n",
    "```bash\n",
    "$ docker images\n",
    "REPOSITORY           TAG                 IMAGE ID            CREATED             SIZE\n",
    "<your_id>/myclient     latest              3714e67fa75a        4 seconds ago       5.35MB\n",
    "<your_id>/myserver     latest              a5fe35de13d2        About an hour ago   704MB\n",
    "appropriate/curl     latest              f73fee23ac74        3 weeks ago         5.35MB\n",
    "golang               jessie              6ce094895555        4 weeks ago         699MB\n",
    "```\n"
   ]
  },
  {
   "cell_type": "markdown",
   "metadata": {},
   "source": [
    "\n",
    "\n",
    "### Running the Webserver as Container\n",
    "\n",
    "```bash\n",
    "$ docker run --name client --link webserver <your_id>/myclient\n",
    "Hej verden!\n",
    "```\n",
    "\n",
    "That is nice, is not it? We just build a small application consisting of a webserver and a client, both deployed in their own containers, and we did not have to install any dependencies on our host machine manually.\n",
    "\n",
    "However, starting the server and the client by hand with the `docker run ...` command is quite tedious. Furthermore, it is not really in line with the _infrastructure as code_ paradigm. Therefore, we can automate even further using `docker-compose`.\n"
   ]
  },
  {
   "cell_type": "markdown",
   "metadata": {
    "slideshow": {
     "slide_type": "subslide"
    }
   },
   "source": [
    "## `docker-compose` - Starting the Application Automatically\n",
    "\n",
    "Similar to a `Vagrantfile`, which describes a cluster setup, we can use a `docker-compose.yml` file to specify the components of our application and how they shall be started.\n",
    "\n",
    "\n",
    "```yml\n",
    "version: '3'\n",
    "services:\n",
    "  webserver:\n",
    "    image: your_id/myserver\n",
    "    ports:\n",
    "      - \"8080:8080\"\n",
    "\n",
    "  clidownload:\n",
    "    image: appropriate/curl\n",
    "    links:\n",
    "      - webserver\n",
    "    entrypoint: sh -c  \"sleep 5 && curl -s http://webserver:8080\"\n",
    "```\n",
    "\n",
    "```bash\n",
    "$ docker-compose up\n",
    "Creating session_03_webserver_1 ... done\n",
    "Creating session_03_clidownload_1 ... done\n",
    "Attaching to session_03_webserver_1, session_03_clidownload_1\n",
    "webserver_1    | 2020/02/12 14:08:03 Server starting on port 8080\n",
    "clidownload_1  | Hej verden!\n",
    "session_03_clidownload_1 exited with code 0\n",
    "^CGracefully stopping... (press Ctrl+C again to force)\n",
    "Stopping session_03_webserver_1   ... done\n",
    "```\n",
    "\n",
    "Finally, to clean up:\n",
    "\n",
    "```bash\n",
    "$ docker-compose rm -v\n",
    "```\n",
    "\n"
   ]
  },
  {
   "cell_type": "markdown",
   "metadata": {
    "slideshow": {
     "slide_type": "slide"
    }
   },
   "source": [
    "### Your Turn! -  `Task 5`\n",
    "<img src=\"https://media.giphy.com/media/13GIgrGdslD9oQ/giphy.gif\" width=50%/>\n",
    "\n",
    "\n",
    "  - Navigate to https://github.com/HelgeCPH/flask-minitwit-mongodb/tree/Containerize (branch `Containerize`) and work through the scenario given in the `README.md` file.\n",
    "\n",
    "```bash\n",
    "$ git clone https://github.com/HelgeCPH/flask-minitwit-mongodb.git\n",
    "$ cd flask-minitwit-mongodb\n",
    "$ git checkout Containerize\n",
    "```\n",
    "  - Make sure with your group fellows, that you understand what you are doing in every step.\n",
    "\n",
    "Once done, modify the `docker-compose.yml` file to include another container `clidownload`, which is an instance of the image `appropriate/curl` and that downloads all tweets from the web-application as HTML."
   ]
  },
  {
   "cell_type": "markdown",
   "metadata": {
    "slideshow": {
     "slide_type": "slide"
    }
   },
   "source": [
    "# Reflection - Why and for what to use virtualization?\n",
    "\n",
    "\n",
    "<!--\n",
    "Solves two problems:\n",
    "    \n",
    "  - Setting up a homogeneous development environment\n",
    "  - Explicit and reproducible way of specifying dependencies and configuration\n",
    "  \n",
    "Drawback:\n",
    "\n",
    "  - These machines are quite big. (But you get a full VM with possibility of doing GUI work directly)\n",
    "  -\n",
    "-->"
   ]
  },
  {
   "cell_type": "markdown",
   "metadata": {
    "slideshow": {
     "slide_type": "subslide"
    }
   },
   "source": [
    "## Advantages and drawbacks of VMs?\n"
   ]
  },
  {
   "cell_type": "markdown",
   "metadata": {
    "slideshow": {
     "slide_type": "subslide"
    }
   },
   "source": [
    "## Advantages and drawbacks of containers?"
   ]
  },
  {
   "cell_type": "markdown",
   "metadata": {
    "slideshow": {
     "slide_type": "slide"
    }
   },
   "source": [
    "-----------\n",
    "\n",
    "\n",
    "# Your turn now!\n",
    "\n",
    "<img src=\"https://media.giphy.com/media/13GIgrGdslD9oQ/giphy.gif\" width=50%/>\n",
    "\n",
    "  - [1) Complete implementing an API for the simulator in your ITU-MiniTwit.](#1\\)-Complete-implementing-an-API-for-the-simulator-in-your-ITU-MiniTwit.)\n",
    "  - [2) Continue refactoring of your ITU-MiniTwit.¶](#2\\)-Continue-refactoring-of-your-ITU-MiniTwit.)\n",
    "  - [3) Log dependencies of your ITU-MiniTwit.](#3\\)-Log-dependencies-of-your-ITU-MiniTwit.)"
   ]
  },
  {
   "cell_type": "markdown",
   "metadata": {
    "slideshow": {
     "slide_type": "subslide"
    }
   },
   "source": [
    "## 1) Complete implementing an API for the simulator in your _ITU-MiniTwit_.\n",
    "\n",
    "\n",
    "Next week, we will start a simulator that will run until the end of this course. It will simulate users using your micro-blogging platform.\n",
    "\n",
    "You can find the specification for the simulator API in \n",
    "`API Spec/minitwit_sim_api.py`. **OBS**: your applications have to:\n",
    "\n",
    "  - provide the same end points (on different hosts of course and potentially different ports),\n",
    "  - ingest the same HTTP requests, i.e., GETs and POSTs as specified with the same parameters and payloads as provided,\n",
    "  - provide at least the same HTTP status codes in response as specified.\n",
    "  \n",
    "  \n",
    "The `API Spec/minitwit_sim_api.py` depends on your refactored `minitwit.py` from last weeks' homework.\n",
    "\n",
    "A corresponding test (`API Spec/minitwit_sim_api_test.py`) illustrates how the simulator requests will be formed. You can inspect it and run it via `pytest minitwit_sim_api_test.py`. \n",
    "\n",
    "\n",
    "Next to the unit test, there is a small program with some more test data, which is similar to the simulator program that will run against your systems. It is located in `API Spec/minitwit_simulator.py` and can be run via:\n",
    "\n",
    "```bash\n",
    "$ python minitwit_simulator.py http://localhost:5001\n",
    "```\n",
    "\n",
    "where the argumument `http://localhost:5001` has to be replaced with the URL of where you simulator API is running. In case this simulator test does not log any errors, you should be all fine for next week. If errors are logged, you have to likely fix the corresponding issue either in your implementation of the simulator API or in the implementation of your version of _ITU-MiniTwit_.\n",
    "\n"
   ]
  },
  {
   "cell_type": "markdown",
   "metadata": {
    "slideshow": {
     "slide_type": "subslide"
    }
   },
   "source": [
    "## 2) Continue refactoring of your _ITU-MiniTwit_.\n",
    "\n",
    "### a) Introduce a DB abstraction layer in your _ITU-MiniTwit_.\n",
    "\n",
    "Continue refactoring of your version of _ITU-MiniTwit_. Introduce a DB abstraction layer so that you do not directly communicate with the DB, i.e., SQLite queries in your main application. Instead introduce for example an Object-relational mapping (ORM) framework to your application so that you decouple it from the actual DBMS.\n",
    "\n",
    "While doing so, you might consider moving away from SQLite as your DBMS and choose a different one according to your liking.\n",
    "\n",
    "**OBS MSc students**: Remember to log and provide good arguments for the choice of ORM framework and chosen DBMS. \n",
    "\n",
    "### b) Release and deploy your _ITU-MiniTwit_.\n",
    "\n",
    "Prepare a new release with the refactored version of your _ITU-MiniTwit_ latest by **Wednesday Feb 19th, at 23:59**)\n",
    "\n",
    "Additionally, deploy that version (the one in the release) of your _ITU-MiniTwit_ to a remote (\"cloud\") server. You might want to deploy to DigitalOcean, from where you get free credits from the Github education pack. For that, you might want to start with the exercise above see [A deeper dive into Vagrant with a remote development scenario](#A-deeper-dive-into-Vagrant-with-a-remote-development-scenario). **OBS**: The simulator API from the task above is considered as a part of your _ITU-MiniTwit_.\n",
    "\n",
    "You are free to deploy wherever and however you want to. The only requirement is that your application is reachable via a public IP/domain.\n",
    "\n",
    "For development/deployment you may want to use virtualization techniques as discussed in today's lecture.\n",
    "\n",
    "**OBS MSc students**: Remember to log and provide good arguments for the choice of virtualization techniques and deployment targets.\n"
   ]
  },
  {
   "cell_type": "markdown",
   "metadata": {
    "slideshow": {
     "slide_type": "subslide"
    }
   },
   "source": [
    "## 3) Log dependencies of your _ITU-MiniTwit_.\n",
    "\n",
    "From now on, keep track of your dependencies. That is, all technologies, services, runtime and build-time dependencies should be logged in a corresponding file and/or visualization.\n"
   ]
  }
 ],
 "metadata": {
  "celltoolbar": "Slideshow",
  "kernelspec": {
   "display_name": "Python 3",
   "language": "python",
   "name": "python3"
  },
  "language_info": {
   "codemirror_mode": {
    "name": "ipython",
    "version": 3
   },
   "file_extension": ".py",
   "mimetype": "text/x-python",
   "name": "python",
   "nbconvert_exporter": "python",
   "pygments_lexer": "ipython3",
   "version": "3.7.3"
  }
 },
 "nbformat": 4,
 "nbformat_minor": 2
}
